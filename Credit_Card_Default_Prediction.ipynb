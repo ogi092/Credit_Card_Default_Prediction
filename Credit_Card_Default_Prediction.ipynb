{
 "cells": [
  {
   "cell_type": "markdown",
   "metadata": {},
   "source": [
    "## 1. Introduction\n",
    "\n",
    "---\n",
    "\n",
    "Name : Ogi Hadicahyo\n",
    "\n",
    "Link Hugging Face: <a href=\"https://huggingface.co/spaces/OgiHadicahyo/Default_Credit_Card\"> Hugging Face</a>.\n",
    "\n",
    "---\n",
    "\n",
    "**Background**\n",
    "\n",
    " I found data on Google Cloud which contains a dataset about credit_card_default. I realized that this dataset was very interesting because with this data, I could create a machine learning model with a classification method to predict the possibility of whether someone would be able to provide credit or not based on existing data. Therefore, I decided to create a Machine Learning model to predict the possibility of an employee being able to pay credit or not by implementing SVM, KNN, and Logistic Regression and determining hyperparameters using Scikit-Learn\n",
    "\n",
    "**Problem Statement**\n",
    "\n",
    "Create a predictive machine learning model using SVM, KNN, and Logistic Regression and find out which model is best for predicting the possibility of someone being able to pay credit or not later. This model is useful for credit card service providers to be able to take further steps in determining whether to give a credit card to someone\n",
    "\n",
    "**Dataset**\n",
    "- Link Dataset: <a href=\"https://console.cloud.google.com/bigquery?p=bigquery-public-data&d=ml_datasets&t=credit_card_default&page=table&pli=1&project=hacktive8-408704&ws=!1m9!1m4!4m3!1sbigquery-public-data!2sml_datasets!3scredit_card_default!1m3!8m2!1s805845835069!2s5fed4d090c56455390a4def8abaf5adb\"> Google Cloud</a>.\n",
    "- Title : P1G5_Set_1_Ogi-Hadicahyo.csv (credit_card_default dataset)\n",
    "\n",
    "| Column | Description |\n",
    "| --- | --- |\n",
    "| id | Anonymized ID of each client |\t\n",
    "| limit_balance |\tAmount of given credit in NT dollars (includes individual and family/supplementary credit) |\t\n",
    "| sex | Gender (1=male, 2=female) |\t\n",
    "| education_level | Education Level (1=graduate school, 2=university, 3=high school, 4=others, 5=unknown, 6=unknown) |\t\n",
    "| marital_status | Marital status (1=married, 2=single, 3=others) |\t\n",
    "| age | Age in years |\t\n",
    "| pay_0 | Repayment status in September, 2005 (-1=pay duly, 1=payment delay for one month, 2=payment delay for two months, ... 8=payment delay for eight months, 9=payment delay for nine months and above) |\n",
    "| pay_2 | Repayment status in August, 2005 (scale same as above) |\t\n",
    "| pay_3 | Repayment status in July, 2005 (scale same as above) |\t\n",
    "| pay_4 | Repayment status in June, 2005 (scale same as above) |\t\n",
    "| pay_5 | Repayment status in May, 2005 (scale same as above) |\t\n",
    "| pay_6 | Repayment status in April, 2005 (scale same as above) |\t\n",
    "| bill_amt_1 | Amount of bill statement in September 2005 (NT dollar) |\t\n",
    "| bill_amt_2 | Amount of bill statement in August 2005 (NT dollar) |\t\n",
    "| bill_amt_3 | Amount of bill statement in July 2005 (NT dollar)\t|\n",
    "| bill_amt_4 | Amount of bill statement in June 2005 (NT dollar) |\t\n",
    "| bill_amt_5 | Amount of bill statement in May 2005 (NT dollar) |\t\n",
    "| bill_amt_6 | Amount of bill statement in April 2005 (NT dollar) |\t\n",
    "| pay_amt_1 | Amount of previous payment in September 2005 (NT dollar) |\t\n",
    "| pay_amt_2 | Amount of previous payment in August 2005 (NT dollar) |\t\n",
    "| pay_amt_3 | Amount of previous payment in July 2005 (NT dollar) |\t\n",
    "| pay_amt_4 | Amount of previous payment in June 2005 (NT dollar) |\t\n",
    "| pay_amt_5 | Amount of previous payment in May 2005 (NT dollar)\t|\n",
    "| pay_amt_6 | Amount of previous payment in April 2005 (NT dollar) |\t\n",
    "| default_payment_next_month | Default payment (1=yes, 0=no) |"
   ]
  },
  {
   "cell_type": "markdown",
   "metadata": {},
   "source": [
    "## 2. Query SQL"
   ]
  },
  {
   "cell_type": "markdown",
   "metadata": {},
   "source": [
    "```sql\n",
    "SELECT \n",
    "    limit_balance,\n",
    "    CAST(sex AS INT) AS sex,\n",
    "    CAST(education_level AS INT) AS education_level,\n",
    "    CAST(marital_status AS INT) AS marital_status,\n",
    "    age,\n",
    "    pay_0,\n",
    "    pay_2,\n",
    "    pay_3,\n",
    "    pay_4,\n",
    "    CAST(pay_5 AS FLOAT64) AS pay_5,\n",
    "    CAST(pay_6 AS FLOAT64) AS pay_6,\n",
    "    bill_amt_1,\n",
    "    bill_amt_2,\n",
    "    bill_amt_3,\n",
    "    bill_amt_4,\n",
    "    bill_amt_5,\n",
    "    bill_amt_6,\n",
    "    pay_amt_1, \n",
    "    pay_amt_2, \n",
    "    pay_amt_3, \n",
    "    pay_amt_4, \n",
    "    pay_amt_5, \n",
    "    pay_amt_6, \n",
    "    CAST(default_payment_next_month AS INT) AS default_payment_next_month\n",
    "FROM `bigquery-public-data.ml_datasets.credit_card_default`\n",
    "LIMIT 24012;\n",
    "```"
   ]
  },
  {
   "cell_type": "markdown",
   "metadata": {},
   "source": [
    "CAST(CUST_ID AS INT) AS CUST_ID,\n",
    "BALANCE,\n",
    "BALANCE_FREQUENCY,\n",
    "PURCHASES,\n",
    "ONEOFF_PURCHASES,\n",
    "INSTALLMENTS_PURCHASES,\n",
    "CASH_ADVANCE,\n",
    "PURCHASES_FREQUENCY,\n",
    "ONEOFF_PURCHASES_FREQUENCY,\n",
    "PURCHASES_INSTALLMENTS_FREQUENCY,\n",
    "CASH_ADVANCE_FREQUENCY,\n",
    "CAST(CASH_ADVANCE_TRX AS INT) AS CASH_ADVANCE_TRX, \n",
    "CAST(PURCHASES_TRX AS INT) AS PURCHASES_TRX,\n",
    "CREDIT_LIMIT,\n",
    "PAYMENTS,\n",
    "MINIMUM_PAYMENTS,\n",
    "PRC_FULL_PAYMENT,\n",
    "CAST(TENURE AS INT) AS TENURE"
   ]
  },
  {
   "cell_type": "markdown",
   "metadata": {},
   "source": [
    "## 3. Import Libraries\n",
    "\n",
    "The first step that needs to be done is ***import libraries***. ***Importing libraries*** makes it easier to reuse code, simplify complex tasks, organize code into smaller parts, use optimal and reliable solutions, and ensure consistency and compatibility across projects and programming languages."
   ]
  },
  {
   "cell_type": "code",
   "execution_count": 273,
   "metadata": {},
   "outputs": [],
   "source": [
    "# Library for dataframe and manipulation\n",
    "import numpy as np\n",
    "import pandas as pd\n",
    "\n",
    "# Library for Visualization\n",
    "import matplotlib.pyplot as plt\n",
    "import seaborn as sns\n",
    "\n",
    "# Libaries related to feature engineering\n",
    "from scipy import stats\n",
    "from scipy.stats import kendalltau\n",
    "from sklearn.model_selection import train_test_split\n",
    "from statsmodels.stats.outliers_influence import variance_inflation_factor\n",
    "from feature_engine.outliers import Winsorizer\n",
    "from sklearn.preprocessing import RobustScaler\n",
    "\n",
    "#library for Model\n",
    "from sklearn.linear_model import LogisticRegression\n",
    "from sklearn.neighbors import KNeighborsClassifier\n",
    "from sklearn.svm import SVC\n",
    "from sklearn.pipeline import make_pipeline\n",
    "from sklearn.compose import make_column_transformer\n",
    "\n",
    "#Library For Model Evaluation \n",
    "from sklearn.metrics import classification_report\n",
    "from sklearn.metrics import classification_report, f1_score\n",
    "from sklearn.model_selection import GridSearchCV, cross_val_score\n",
    "\n",
    "#library untuk model saving\n",
    "import pickle\n",
    "\n",
    "# Library for warnings\n",
    "import warnings\n",
    "\n",
    "# Ignore all warnings\n",
    "warnings.filterwarnings(\"ignore\")"
   ]
  },
  {
   "cell_type": "markdown",
   "metadata": {},
   "source": [
    "We have finished importing libraries. Now, we can use these libraries to process the data we have. The next step is data loading"
   ]
  },
  {
   "cell_type": "markdown",
   "metadata": {},
   "source": [
    "## 4. Data Loading\n",
    "\n",
    "The data used is default credit card data obtained from Google BigQuery and then saved in CSV form with the file name P1G5_Set_1_Ogi-Hadicahyo.csv. First of all, we're gonna import the data set .csv file containing the dataset into a Data Frame"
   ]
  },
  {
   "cell_type": "code",
   "execution_count": 274,
   "metadata": {},
   "outputs": [],
   "source": [
    "# Load the .csv file\n",
    "data = pd.read_csv('P1G5_Set_1_Ogi-Hadicahyo.csv')"
   ]
  },
  {
   "cell_type": "markdown",
   "metadata": {},
   "source": [
    "---\n",
    "### 4.1 Data Information\n",
    "\n",
    "We will see a small overview of the dataset we have by displaying the first and last 10 rows. This step is carried out to be able to understand the contents of the dataset that we have"
   ]
  },
  {
   "cell_type": "code",
   "execution_count": 275,
   "metadata": {},
   "outputs": [
    {
     "name": "stdout",
     "output_type": "stream",
     "text": [
      "The first 10 rows data:\n"
     ]
    },
    {
     "data": {
      "text/html": [
       "<div>\n",
       "<style scoped>\n",
       "    .dataframe tbody tr th:only-of-type {\n",
       "        vertical-align: middle;\n",
       "    }\n",
       "\n",
       "    .dataframe tbody tr th {\n",
       "        vertical-align: top;\n",
       "    }\n",
       "\n",
       "    .dataframe thead th {\n",
       "        text-align: right;\n",
       "    }\n",
       "</style>\n",
       "<table border=\"1\" class=\"dataframe\">\n",
       "  <thead>\n",
       "    <tr style=\"text-align: right;\">\n",
       "      <th></th>\n",
       "      <th>limit_balance</th>\n",
       "      <th>sex</th>\n",
       "      <th>education_level</th>\n",
       "      <th>marital_status</th>\n",
       "      <th>age</th>\n",
       "      <th>pay_0</th>\n",
       "      <th>pay_2</th>\n",
       "      <th>pay_3</th>\n",
       "      <th>pay_4</th>\n",
       "      <th>pay_5</th>\n",
       "      <th>...</th>\n",
       "      <th>bill_amt_4</th>\n",
       "      <th>bill_amt_5</th>\n",
       "      <th>bill_amt_6</th>\n",
       "      <th>pay_amt_1</th>\n",
       "      <th>pay_amt_2</th>\n",
       "      <th>pay_amt_3</th>\n",
       "      <th>pay_amt_4</th>\n",
       "      <th>pay_amt_5</th>\n",
       "      <th>pay_amt_6</th>\n",
       "      <th>default_payment_next_month</th>\n",
       "    </tr>\n",
       "  </thead>\n",
       "  <tbody>\n",
       "    <tr>\n",
       "      <th>0</th>\n",
       "      <td>80000</td>\n",
       "      <td>1</td>\n",
       "      <td>6</td>\n",
       "      <td>1</td>\n",
       "      <td>54</td>\n",
       "      <td>0</td>\n",
       "      <td>0</td>\n",
       "      <td>0</td>\n",
       "      <td>0</td>\n",
       "      <td>0</td>\n",
       "      <td>...</td>\n",
       "      <td>29296</td>\n",
       "      <td>26210</td>\n",
       "      <td>17643</td>\n",
       "      <td>2545</td>\n",
       "      <td>2208</td>\n",
       "      <td>1336</td>\n",
       "      <td>2232</td>\n",
       "      <td>542</td>\n",
       "      <td>348</td>\n",
       "      <td>1</td>\n",
       "    </tr>\n",
       "    <tr>\n",
       "      <th>1</th>\n",
       "      <td>200000</td>\n",
       "      <td>1</td>\n",
       "      <td>4</td>\n",
       "      <td>1</td>\n",
       "      <td>49</td>\n",
       "      <td>0</td>\n",
       "      <td>0</td>\n",
       "      <td>0</td>\n",
       "      <td>0</td>\n",
       "      <td>0</td>\n",
       "      <td>...</td>\n",
       "      <td>50146</td>\n",
       "      <td>50235</td>\n",
       "      <td>48984</td>\n",
       "      <td>1689</td>\n",
       "      <td>2164</td>\n",
       "      <td>2500</td>\n",
       "      <td>3480</td>\n",
       "      <td>2500</td>\n",
       "      <td>3000</td>\n",
       "      <td>0</td>\n",
       "    </tr>\n",
       "    <tr>\n",
       "      <th>2</th>\n",
       "      <td>20000</td>\n",
       "      <td>2</td>\n",
       "      <td>6</td>\n",
       "      <td>2</td>\n",
       "      <td>22</td>\n",
       "      <td>0</td>\n",
       "      <td>0</td>\n",
       "      <td>0</td>\n",
       "      <td>0</td>\n",
       "      <td>0</td>\n",
       "      <td>...</td>\n",
       "      <td>1434</td>\n",
       "      <td>500</td>\n",
       "      <td>0</td>\n",
       "      <td>4641</td>\n",
       "      <td>1019</td>\n",
       "      <td>900</td>\n",
       "      <td>0</td>\n",
       "      <td>1500</td>\n",
       "      <td>0</td>\n",
       "      <td>1</td>\n",
       "    </tr>\n",
       "    <tr>\n",
       "      <th>3</th>\n",
       "      <td>260000</td>\n",
       "      <td>2</td>\n",
       "      <td>4</td>\n",
       "      <td>2</td>\n",
       "      <td>33</td>\n",
       "      <td>0</td>\n",
       "      <td>0</td>\n",
       "      <td>0</td>\n",
       "      <td>0</td>\n",
       "      <td>0</td>\n",
       "      <td>...</td>\n",
       "      <td>27821</td>\n",
       "      <td>30767</td>\n",
       "      <td>29890</td>\n",
       "      <td>5000</td>\n",
       "      <td>5000</td>\n",
       "      <td>1137</td>\n",
       "      <td>5000</td>\n",
       "      <td>1085</td>\n",
       "      <td>5000</td>\n",
       "      <td>0</td>\n",
       "    </tr>\n",
       "    <tr>\n",
       "      <th>4</th>\n",
       "      <td>150000</td>\n",
       "      <td>1</td>\n",
       "      <td>4</td>\n",
       "      <td>2</td>\n",
       "      <td>32</td>\n",
       "      <td>0</td>\n",
       "      <td>0</td>\n",
       "      <td>0</td>\n",
       "      <td>-1</td>\n",
       "      <td>0</td>\n",
       "      <td>...</td>\n",
       "      <td>150464</td>\n",
       "      <td>143375</td>\n",
       "      <td>146411</td>\n",
       "      <td>4019</td>\n",
       "      <td>146896</td>\n",
       "      <td>157436</td>\n",
       "      <td>4600</td>\n",
       "      <td>4709</td>\n",
       "      <td>5600</td>\n",
       "      <td>0</td>\n",
       "    </tr>\n",
       "    <tr>\n",
       "      <th>5</th>\n",
       "      <td>300000</td>\n",
       "      <td>2</td>\n",
       "      <td>4</td>\n",
       "      <td>2</td>\n",
       "      <td>32</td>\n",
       "      <td>0</td>\n",
       "      <td>0</td>\n",
       "      <td>0</td>\n",
       "      <td>0</td>\n",
       "      <td>0</td>\n",
       "      <td>...</td>\n",
       "      <td>65150</td>\n",
       "      <td>-450</td>\n",
       "      <td>700</td>\n",
       "      <td>15235</td>\n",
       "      <td>1491</td>\n",
       "      <td>1303</td>\n",
       "      <td>0</td>\n",
       "      <td>2000</td>\n",
       "      <td>1400</td>\n",
       "      <td>0</td>\n",
       "    </tr>\n",
       "    <tr>\n",
       "      <th>6</th>\n",
       "      <td>130000</td>\n",
       "      <td>1</td>\n",
       "      <td>1</td>\n",
       "      <td>1</td>\n",
       "      <td>45</td>\n",
       "      <td>0</td>\n",
       "      <td>0</td>\n",
       "      <td>0</td>\n",
       "      <td>0</td>\n",
       "      <td>0</td>\n",
       "      <td>...</td>\n",
       "      <td>62377</td>\n",
       "      <td>63832</td>\n",
       "      <td>65099</td>\n",
       "      <td>2886</td>\n",
       "      <td>2908</td>\n",
       "      <td>2129</td>\n",
       "      <td>2354</td>\n",
       "      <td>2366</td>\n",
       "      <td>2291</td>\n",
       "      <td>0</td>\n",
       "    </tr>\n",
       "    <tr>\n",
       "      <th>7</th>\n",
       "      <td>200000</td>\n",
       "      <td>1</td>\n",
       "      <td>1</td>\n",
       "      <td>1</td>\n",
       "      <td>58</td>\n",
       "      <td>0</td>\n",
       "      <td>0</td>\n",
       "      <td>0</td>\n",
       "      <td>0</td>\n",
       "      <td>0</td>\n",
       "      <td>...</td>\n",
       "      <td>124647</td>\n",
       "      <td>126921</td>\n",
       "      <td>129167</td>\n",
       "      <td>7822</td>\n",
       "      <td>4417</td>\n",
       "      <td>4446</td>\n",
       "      <td>4597</td>\n",
       "      <td>4677</td>\n",
       "      <td>4698</td>\n",
       "      <td>0</td>\n",
       "    </tr>\n",
       "    <tr>\n",
       "      <th>8</th>\n",
       "      <td>500000</td>\n",
       "      <td>1</td>\n",
       "      <td>1</td>\n",
       "      <td>1</td>\n",
       "      <td>39</td>\n",
       "      <td>0</td>\n",
       "      <td>0</td>\n",
       "      <td>0</td>\n",
       "      <td>0</td>\n",
       "      <td>0</td>\n",
       "      <td>...</td>\n",
       "      <td>174500</td>\n",
       "      <td>137406</td>\n",
       "      <td>204975</td>\n",
       "      <td>54209</td>\n",
       "      <td>4607</td>\n",
       "      <td>4603</td>\n",
       "      <td>5224</td>\n",
       "      <td>207440</td>\n",
       "      <td>7509</td>\n",
       "      <td>0</td>\n",
       "    </tr>\n",
       "    <tr>\n",
       "      <th>9</th>\n",
       "      <td>230000</td>\n",
       "      <td>1</td>\n",
       "      <td>1</td>\n",
       "      <td>1</td>\n",
       "      <td>48</td>\n",
       "      <td>0</td>\n",
       "      <td>0</td>\n",
       "      <td>0</td>\n",
       "      <td>0</td>\n",
       "      <td>0</td>\n",
       "      <td>...</td>\n",
       "      <td>105508</td>\n",
       "      <td>108101</td>\n",
       "      <td>110094</td>\n",
       "      <td>7000</td>\n",
       "      <td>6607</td>\n",
       "      <td>3773</td>\n",
       "      <td>4290</td>\n",
       "      <td>4164</td>\n",
       "      <td>2000</td>\n",
       "      <td>0</td>\n",
       "    </tr>\n",
       "  </tbody>\n",
       "</table>\n",
       "<p>10 rows × 24 columns</p>\n",
       "</div>"
      ],
      "text/plain": [
       "   limit_balance  sex  education_level  marital_status  age  pay_0  pay_2  \\\n",
       "0          80000    1                6               1   54      0      0   \n",
       "1         200000    1                4               1   49      0      0   \n",
       "2          20000    2                6               2   22      0      0   \n",
       "3         260000    2                4               2   33      0      0   \n",
       "4         150000    1                4               2   32      0      0   \n",
       "5         300000    2                4               2   32      0      0   \n",
       "6         130000    1                1               1   45      0      0   \n",
       "7         200000    1                1               1   58      0      0   \n",
       "8         500000    1                1               1   39      0      0   \n",
       "9         230000    1                1               1   48      0      0   \n",
       "\n",
       "   pay_3  pay_4  pay_5  ...  bill_amt_4  bill_amt_5  bill_amt_6  pay_amt_1  \\\n",
       "0      0      0      0  ...       29296       26210       17643       2545   \n",
       "1      0      0      0  ...       50146       50235       48984       1689   \n",
       "2      0      0      0  ...        1434         500           0       4641   \n",
       "3      0      0      0  ...       27821       30767       29890       5000   \n",
       "4      0     -1      0  ...      150464      143375      146411       4019   \n",
       "5      0      0      0  ...       65150        -450         700      15235   \n",
       "6      0      0      0  ...       62377       63832       65099       2886   \n",
       "7      0      0      0  ...      124647      126921      129167       7822   \n",
       "8      0      0      0  ...      174500      137406      204975      54209   \n",
       "9      0      0      0  ...      105508      108101      110094       7000   \n",
       "\n",
       "   pay_amt_2  pay_amt_3  pay_amt_4  pay_amt_5  pay_amt_6  \\\n",
       "0       2208       1336       2232        542        348   \n",
       "1       2164       2500       3480       2500       3000   \n",
       "2       1019        900          0       1500          0   \n",
       "3       5000       1137       5000       1085       5000   \n",
       "4     146896     157436       4600       4709       5600   \n",
       "5       1491       1303          0       2000       1400   \n",
       "6       2908       2129       2354       2366       2291   \n",
       "7       4417       4446       4597       4677       4698   \n",
       "8       4607       4603       5224     207440       7509   \n",
       "9       6607       3773       4290       4164       2000   \n",
       "\n",
       "   default_payment_next_month  \n",
       "0                           1  \n",
       "1                           0  \n",
       "2                           1  \n",
       "3                           0  \n",
       "4                           0  \n",
       "5                           0  \n",
       "6                           0  \n",
       "7                           0  \n",
       "8                           0  \n",
       "9                           0  \n",
       "\n",
       "[10 rows x 24 columns]"
      ]
     },
     "metadata": {},
     "output_type": "display_data"
    },
    {
     "name": "stdout",
     "output_type": "stream",
     "text": [
      "The last 10 rows data:\n"
     ]
    },
    {
     "data": {
      "text/html": [
       "<div>\n",
       "<style scoped>\n",
       "    .dataframe tbody tr th:only-of-type {\n",
       "        vertical-align: middle;\n",
       "    }\n",
       "\n",
       "    .dataframe tbody tr th {\n",
       "        vertical-align: top;\n",
       "    }\n",
       "\n",
       "    .dataframe thead th {\n",
       "        text-align: right;\n",
       "    }\n",
       "</style>\n",
       "<table border=\"1\" class=\"dataframe\">\n",
       "  <thead>\n",
       "    <tr style=\"text-align: right;\">\n",
       "      <th></th>\n",
       "      <th>limit_balance</th>\n",
       "      <th>sex</th>\n",
       "      <th>education_level</th>\n",
       "      <th>marital_status</th>\n",
       "      <th>age</th>\n",
       "      <th>pay_0</th>\n",
       "      <th>pay_2</th>\n",
       "      <th>pay_3</th>\n",
       "      <th>pay_4</th>\n",
       "      <th>pay_5</th>\n",
       "      <th>...</th>\n",
       "      <th>bill_amt_4</th>\n",
       "      <th>bill_amt_5</th>\n",
       "      <th>bill_amt_6</th>\n",
       "      <th>pay_amt_1</th>\n",
       "      <th>pay_amt_2</th>\n",
       "      <th>pay_amt_3</th>\n",
       "      <th>pay_amt_4</th>\n",
       "      <th>pay_amt_5</th>\n",
       "      <th>pay_amt_6</th>\n",
       "      <th>default_payment_next_month</th>\n",
       "    </tr>\n",
       "  </thead>\n",
       "  <tbody>\n",
       "    <tr>\n",
       "      <th>2955</th>\n",
       "      <td>360000</td>\n",
       "      <td>2</td>\n",
       "      <td>2</td>\n",
       "      <td>2</td>\n",
       "      <td>26</td>\n",
       "      <td>-1</td>\n",
       "      <td>-1</td>\n",
       "      <td>-1</td>\n",
       "      <td>-1</td>\n",
       "      <td>-2</td>\n",
       "      <td>...</td>\n",
       "      <td>0</td>\n",
       "      <td>0</td>\n",
       "      <td>0</td>\n",
       "      <td>463</td>\n",
       "      <td>2500</td>\n",
       "      <td>0</td>\n",
       "      <td>0</td>\n",
       "      <td>0</td>\n",
       "      <td>0</td>\n",
       "      <td>0</td>\n",
       "    </tr>\n",
       "    <tr>\n",
       "      <th>2956</th>\n",
       "      <td>100000</td>\n",
       "      <td>1</td>\n",
       "      <td>3</td>\n",
       "      <td>1</td>\n",
       "      <td>40</td>\n",
       "      <td>0</td>\n",
       "      <td>0</td>\n",
       "      <td>-1</td>\n",
       "      <td>-1</td>\n",
       "      <td>-2</td>\n",
       "      <td>...</td>\n",
       "      <td>0</td>\n",
       "      <td>0</td>\n",
       "      <td>0</td>\n",
       "      <td>2000</td>\n",
       "      <td>2377</td>\n",
       "      <td>40000</td>\n",
       "      <td>0</td>\n",
       "      <td>0</td>\n",
       "      <td>0</td>\n",
       "      <td>0</td>\n",
       "    </tr>\n",
       "    <tr>\n",
       "      <th>2957</th>\n",
       "      <td>30000</td>\n",
       "      <td>2</td>\n",
       "      <td>3</td>\n",
       "      <td>1</td>\n",
       "      <td>48</td>\n",
       "      <td>1</td>\n",
       "      <td>-1</td>\n",
       "      <td>-1</td>\n",
       "      <td>-2</td>\n",
       "      <td>-2</td>\n",
       "      <td>...</td>\n",
       "      <td>0</td>\n",
       "      <td>0</td>\n",
       "      <td>0</td>\n",
       "      <td>200</td>\n",
       "      <td>0</td>\n",
       "      <td>0</td>\n",
       "      <td>0</td>\n",
       "      <td>0</td>\n",
       "      <td>0</td>\n",
       "      <td>0</td>\n",
       "    </tr>\n",
       "    <tr>\n",
       "      <th>2958</th>\n",
       "      <td>80000</td>\n",
       "      <td>2</td>\n",
       "      <td>3</td>\n",
       "      <td>1</td>\n",
       "      <td>39</td>\n",
       "      <td>-1</td>\n",
       "      <td>-1</td>\n",
       "      <td>-1</td>\n",
       "      <td>-1</td>\n",
       "      <td>-2</td>\n",
       "      <td>...</td>\n",
       "      <td>0</td>\n",
       "      <td>0</td>\n",
       "      <td>5000</td>\n",
       "      <td>5000</td>\n",
       "      <td>5000</td>\n",
       "      <td>0</td>\n",
       "      <td>5000</td>\n",
       "      <td>5000</td>\n",
       "      <td>470</td>\n",
       "      <td>0</td>\n",
       "    </tr>\n",
       "    <tr>\n",
       "      <th>2959</th>\n",
       "      <td>20000</td>\n",
       "      <td>1</td>\n",
       "      <td>3</td>\n",
       "      <td>2</td>\n",
       "      <td>26</td>\n",
       "      <td>-1</td>\n",
       "      <td>-1</td>\n",
       "      <td>-1</td>\n",
       "      <td>-2</td>\n",
       "      <td>-2</td>\n",
       "      <td>...</td>\n",
       "      <td>0</td>\n",
       "      <td>0</td>\n",
       "      <td>0</td>\n",
       "      <td>1560</td>\n",
       "      <td>0</td>\n",
       "      <td>0</td>\n",
       "      <td>0</td>\n",
       "      <td>0</td>\n",
       "      <td>0</td>\n",
       "      <td>0</td>\n",
       "    </tr>\n",
       "    <tr>\n",
       "      <th>2960</th>\n",
       "      <td>80000</td>\n",
       "      <td>2</td>\n",
       "      <td>3</td>\n",
       "      <td>2</td>\n",
       "      <td>28</td>\n",
       "      <td>-1</td>\n",
       "      <td>-1</td>\n",
       "      <td>-1</td>\n",
       "      <td>-2</td>\n",
       "      <td>-2</td>\n",
       "      <td>...</td>\n",
       "      <td>0</td>\n",
       "      <td>0</td>\n",
       "      <td>0</td>\n",
       "      <td>2800</td>\n",
       "      <td>0</td>\n",
       "      <td>0</td>\n",
       "      <td>0</td>\n",
       "      <td>0</td>\n",
       "      <td>0</td>\n",
       "      <td>0</td>\n",
       "    </tr>\n",
       "    <tr>\n",
       "      <th>2961</th>\n",
       "      <td>50000</td>\n",
       "      <td>2</td>\n",
       "      <td>3</td>\n",
       "      <td>1</td>\n",
       "      <td>51</td>\n",
       "      <td>-1</td>\n",
       "      <td>-1</td>\n",
       "      <td>-1</td>\n",
       "      <td>-1</td>\n",
       "      <td>-2</td>\n",
       "      <td>...</td>\n",
       "      <td>0</td>\n",
       "      <td>0</td>\n",
       "      <td>0</td>\n",
       "      <td>300</td>\n",
       "      <td>5880</td>\n",
       "      <td>0</td>\n",
       "      <td>0</td>\n",
       "      <td>0</td>\n",
       "      <td>0</td>\n",
       "      <td>1</td>\n",
       "    </tr>\n",
       "    <tr>\n",
       "      <th>2962</th>\n",
       "      <td>450000</td>\n",
       "      <td>2</td>\n",
       "      <td>2</td>\n",
       "      <td>1</td>\n",
       "      <td>38</td>\n",
       "      <td>-2</td>\n",
       "      <td>-2</td>\n",
       "      <td>-2</td>\n",
       "      <td>-2</td>\n",
       "      <td>-2</td>\n",
       "      <td>...</td>\n",
       "      <td>390</td>\n",
       "      <td>390</td>\n",
       "      <td>390</td>\n",
       "      <td>390</td>\n",
       "      <td>780</td>\n",
       "      <td>390</td>\n",
       "      <td>390</td>\n",
       "      <td>390</td>\n",
       "      <td>390</td>\n",
       "      <td>1</td>\n",
       "    </tr>\n",
       "    <tr>\n",
       "      <th>2963</th>\n",
       "      <td>50000</td>\n",
       "      <td>2</td>\n",
       "      <td>2</td>\n",
       "      <td>1</td>\n",
       "      <td>44</td>\n",
       "      <td>-2</td>\n",
       "      <td>-2</td>\n",
       "      <td>-2</td>\n",
       "      <td>-2</td>\n",
       "      <td>-2</td>\n",
       "      <td>...</td>\n",
       "      <td>390</td>\n",
       "      <td>390</td>\n",
       "      <td>0</td>\n",
       "      <td>390</td>\n",
       "      <td>390</td>\n",
       "      <td>390</td>\n",
       "      <td>390</td>\n",
       "      <td>0</td>\n",
       "      <td>780</td>\n",
       "      <td>0</td>\n",
       "    </tr>\n",
       "    <tr>\n",
       "      <th>2964</th>\n",
       "      <td>290000</td>\n",
       "      <td>2</td>\n",
       "      <td>2</td>\n",
       "      <td>1</td>\n",
       "      <td>39</td>\n",
       "      <td>1</td>\n",
       "      <td>-2</td>\n",
       "      <td>-2</td>\n",
       "      <td>-2</td>\n",
       "      <td>-2</td>\n",
       "      <td>...</td>\n",
       "      <td>3184</td>\n",
       "      <td>390</td>\n",
       "      <td>390</td>\n",
       "      <td>10000</td>\n",
       "      <td>800</td>\n",
       "      <td>3184</td>\n",
       "      <td>390</td>\n",
       "      <td>390</td>\n",
       "      <td>6617</td>\n",
       "      <td>0</td>\n",
       "    </tr>\n",
       "  </tbody>\n",
       "</table>\n",
       "<p>10 rows × 24 columns</p>\n",
       "</div>"
      ],
      "text/plain": [
       "      limit_balance  sex  education_level  marital_status  age  pay_0  pay_2  \\\n",
       "2955         360000    2                2               2   26     -1     -1   \n",
       "2956         100000    1                3               1   40      0      0   \n",
       "2957          30000    2                3               1   48      1     -1   \n",
       "2958          80000    2                3               1   39     -1     -1   \n",
       "2959          20000    1                3               2   26     -1     -1   \n",
       "2960          80000    2                3               2   28     -1     -1   \n",
       "2961          50000    2                3               1   51     -1     -1   \n",
       "2962         450000    2                2               1   38     -2     -2   \n",
       "2963          50000    2                2               1   44     -2     -2   \n",
       "2964         290000    2                2               1   39      1     -2   \n",
       "\n",
       "      pay_3  pay_4  pay_5  ...  bill_amt_4  bill_amt_5  bill_amt_6  pay_amt_1  \\\n",
       "2955     -1     -1     -2  ...           0           0           0        463   \n",
       "2956     -1     -1     -2  ...           0           0           0       2000   \n",
       "2957     -1     -2     -2  ...           0           0           0        200   \n",
       "2958     -1     -1     -2  ...           0           0        5000       5000   \n",
       "2959     -1     -2     -2  ...           0           0           0       1560   \n",
       "2960     -1     -2     -2  ...           0           0           0       2800   \n",
       "2961     -1     -1     -2  ...           0           0           0        300   \n",
       "2962     -2     -2     -2  ...         390         390         390        390   \n",
       "2963     -2     -2     -2  ...         390         390           0        390   \n",
       "2964     -2     -2     -2  ...        3184         390         390      10000   \n",
       "\n",
       "      pay_amt_2  pay_amt_3  pay_amt_4  pay_amt_5  pay_amt_6  \\\n",
       "2955       2500          0          0          0          0   \n",
       "2956       2377      40000          0          0          0   \n",
       "2957          0          0          0          0          0   \n",
       "2958       5000          0       5000       5000        470   \n",
       "2959          0          0          0          0          0   \n",
       "2960          0          0          0          0          0   \n",
       "2961       5880          0          0          0          0   \n",
       "2962        780        390        390        390        390   \n",
       "2963        390        390        390          0        780   \n",
       "2964        800       3184        390        390       6617   \n",
       "\n",
       "      default_payment_next_month  \n",
       "2955                           0  \n",
       "2956                           0  \n",
       "2957                           0  \n",
       "2958                           0  \n",
       "2959                           0  \n",
       "2960                           0  \n",
       "2961                           1  \n",
       "2962                           1  \n",
       "2963                           0  \n",
       "2964                           0  \n",
       "\n",
       "[10 rows x 24 columns]"
      ]
     },
     "metadata": {},
     "output_type": "display_data"
    }
   ],
   "source": [
    "# Show the first 10 data\n",
    "print('The first 10 rows data:')\n",
    "display(data.head(10))\n",
    "\n",
    "# Show the last 10 data\n",
    "print('The last 10 rows data:')\n",
    "display(data.tail(10))"
   ]
  },
  {
   "cell_type": "markdown",
   "metadata": {},
   "source": [
    "The table above is the first and last 10 rows of the dataset that we will use. Now, we will look in more detail about our dataset by displaying a summary of the dataset"
   ]
  },
  {
   "cell_type": "code",
   "execution_count": 276,
   "metadata": {},
   "outputs": [
    {
     "name": "stdout",
     "output_type": "stream",
     "text": [
      "<class 'pandas.core.frame.DataFrame'>\n",
      "RangeIndex: 2965 entries, 0 to 2964\n",
      "Data columns (total 24 columns):\n",
      " #   Column                      Non-Null Count  Dtype\n",
      "---  ------                      --------------  -----\n",
      " 0   limit_balance               2965 non-null   int64\n",
      " 1   sex                         2965 non-null   int64\n",
      " 2   education_level             2965 non-null   int64\n",
      " 3   marital_status              2965 non-null   int64\n",
      " 4   age                         2965 non-null   int64\n",
      " 5   pay_0                       2965 non-null   int64\n",
      " 6   pay_2                       2965 non-null   int64\n",
      " 7   pay_3                       2965 non-null   int64\n",
      " 8   pay_4                       2965 non-null   int64\n",
      " 9   pay_5                       2965 non-null   int64\n",
      " 10  pay_6                       2965 non-null   int64\n",
      " 11  bill_amt_1                  2965 non-null   int64\n",
      " 12  bill_amt_2                  2965 non-null   int64\n",
      " 13  bill_amt_3                  2965 non-null   int64\n",
      " 14  bill_amt_4                  2965 non-null   int64\n",
      " 15  bill_amt_5                  2965 non-null   int64\n",
      " 16  bill_amt_6                  2965 non-null   int64\n",
      " 17  pay_amt_1                   2965 non-null   int64\n",
      " 18  pay_amt_2                   2965 non-null   int64\n",
      " 19  pay_amt_3                   2965 non-null   int64\n",
      " 20  pay_amt_4                   2965 non-null   int64\n",
      " 21  pay_amt_5                   2965 non-null   int64\n",
      " 22  pay_amt_6                   2965 non-null   int64\n",
      " 23  default_payment_next_month  2965 non-null   int64\n",
      "dtypes: int64(24)\n",
      "memory usage: 556.1 KB\n"
     ]
    }
   ],
   "source": [
    "# Check the data info\n",
    "data.info()"
   ]
  },
  {
   "cell_type": "markdown",
   "metadata": {},
   "source": [
    "Based on the information above, it can be seen that this dataset has ***2965 entries*** with ***24 columns***. Apart from that, all columns in this dataset are of ***numeric data type (float and integer)***. In the output above it can also be stated that there are no missing values in this dataset because the number of rows in each column is 2965. Therefore, we no longer need to handle missing values later. However, we still need to check whether there is duplicate data in this dataset so that the data can be used more optimally"
   ]
  },
  {
   "cell_type": "code",
   "execution_count": 277,
   "metadata": {},
   "outputs": [
    {
     "name": "stdout",
     "output_type": "stream",
     "text": [
      "Number of columns of integer type: 24\n",
      "Number of columns of type float: 0\n",
      "Number of columns of type object: 0\n"
     ]
    }
   ],
   "source": [
    "# Check the number of columns of integer type\n",
    "integer_columns = len(data.select_dtypes(include='int64').columns)\n",
    "\n",
    "# Check the number of columns of float type\n",
    "float_columns = len(data.select_dtypes(include='float64').columns)\n",
    "\n",
    "# Check the number of columns of object type\n",
    "object_columns = len(data.select_dtypes(include='object').columns)\n",
    "\n",
    "# Displays the number of columns of integer, float, and object types\n",
    "print(f\"Number of columns of integer type: {integer_columns}\")\n",
    "print(f\"Number of columns of type float: {float_columns}\")\n",
    "print(f\"Number of columns of type object: {object_columns}\")"
   ]
  },
  {
   "cell_type": "markdown",
   "metadata": {},
   "source": [
    "Based on the observations above, the dataset we have consists of ***20 float columns*** and ***4 integer columns***. This dataset does not have columns of type object so we can conclude that all columns have values of numeric type"
   ]
  },
  {
   "cell_type": "markdown",
   "metadata": {},
   "source": [
    "---\n",
    "### 4.2 Make Adjustments to Existing Data\n",
    "\n",
    "Data adjustments are carried out to optimize the data we have. The data adjustment process goes through three stages, namely checking for duplicate data, renaming columns, and combining data. Duplicate data checks are carried out to avoid the presence of the same data in the dataset, this is done to prevent the model from learning the same data at the model training stage. renaming columns and combining data is done because in the dataset that we have, there are column names that do not match and it is known that there are also columns that have the same values, so we will combine the data so that the data used is not complex."
   ]
  },
  {
   "cell_type": "markdown",
   "metadata": {},
   "source": [
    "#### 4.2.1 Check For Duplicate Data"
   ]
  },
  {
   "cell_type": "code",
   "execution_count": 278,
   "metadata": {},
   "outputs": [
    {
     "data": {
      "text/plain": [
       "1"
      ]
     },
     "execution_count": 278,
     "metadata": {},
     "output_type": "execute_result"
    }
   ],
   "source": [
    "# Counting the amount of data that is potentially the same as other data\n",
    "data.duplicated().sum()"
   ]
  },
  {
   "cell_type": "markdown",
   "metadata": {},
   "source": [
    "As a result of calculating the amount of data that is potentially the same as other data, it is known that there is one data that is the same as other data. Therefore, we will delete the data because we already have one data that has that information"
   ]
  },
  {
   "cell_type": "code",
   "execution_count": 279,
   "metadata": {},
   "outputs": [
    {
     "data": {
      "text/plain": [
       "0"
      ]
     },
     "execution_count": 279,
     "metadata": {},
     "output_type": "execute_result"
    }
   ],
   "source": [
    "# Delete duplicate data\n",
    "data = data.drop_duplicates()\n",
    "\n",
    "# Check again whether there is still data that has the potential to be the same as other data\n",
    "data.duplicated().sum()"
   ]
  },
  {
   "cell_type": "markdown",
   "metadata": {},
   "source": [
    "we have deleted duplicate data and the data can be used for further processing. Now, the number of entries in our dataset is 2964 data."
   ]
  },
  {
   "cell_type": "markdown",
   "metadata": {},
   "source": [
    "#### 4.3.2 Rename Column\n",
    "\n",
    "pay_0 column is Repayment status in September, 2005 (payment status in the first month). We will change the column name to pay_1 because pay_0 contains the payment status for the first month"
   ]
  },
  {
   "cell_type": "code",
   "execution_count": 280,
   "metadata": {},
   "outputs": [
    {
     "data": {
      "text/html": [
       "<div>\n",
       "<style scoped>\n",
       "    .dataframe tbody tr th:only-of-type {\n",
       "        vertical-align: middle;\n",
       "    }\n",
       "\n",
       "    .dataframe tbody tr th {\n",
       "        vertical-align: top;\n",
       "    }\n",
       "\n",
       "    .dataframe thead th {\n",
       "        text-align: right;\n",
       "    }\n",
       "</style>\n",
       "<table border=\"1\" class=\"dataframe\">\n",
       "  <thead>\n",
       "    <tr style=\"text-align: right;\">\n",
       "      <th></th>\n",
       "      <th>limit_balance</th>\n",
       "      <th>sex</th>\n",
       "      <th>education_level</th>\n",
       "      <th>marital_status</th>\n",
       "      <th>age</th>\n",
       "      <th>pay_1</th>\n",
       "      <th>pay_2</th>\n",
       "      <th>pay_3</th>\n",
       "      <th>pay_4</th>\n",
       "      <th>pay_5</th>\n",
       "      <th>...</th>\n",
       "      <th>bill_amt_4</th>\n",
       "      <th>bill_amt_5</th>\n",
       "      <th>bill_amt_6</th>\n",
       "      <th>pay_amt_1</th>\n",
       "      <th>pay_amt_2</th>\n",
       "      <th>pay_amt_3</th>\n",
       "      <th>pay_amt_4</th>\n",
       "      <th>pay_amt_5</th>\n",
       "      <th>pay_amt_6</th>\n",
       "      <th>default_payment_next_month</th>\n",
       "    </tr>\n",
       "  </thead>\n",
       "  <tbody>\n",
       "    <tr>\n",
       "      <th>0</th>\n",
       "      <td>80000</td>\n",
       "      <td>1</td>\n",
       "      <td>6</td>\n",
       "      <td>1</td>\n",
       "      <td>54</td>\n",
       "      <td>0</td>\n",
       "      <td>0</td>\n",
       "      <td>0</td>\n",
       "      <td>0</td>\n",
       "      <td>0</td>\n",
       "      <td>...</td>\n",
       "      <td>29296</td>\n",
       "      <td>26210</td>\n",
       "      <td>17643</td>\n",
       "      <td>2545</td>\n",
       "      <td>2208</td>\n",
       "      <td>1336</td>\n",
       "      <td>2232</td>\n",
       "      <td>542</td>\n",
       "      <td>348</td>\n",
       "      <td>1</td>\n",
       "    </tr>\n",
       "    <tr>\n",
       "      <th>1</th>\n",
       "      <td>200000</td>\n",
       "      <td>1</td>\n",
       "      <td>4</td>\n",
       "      <td>1</td>\n",
       "      <td>49</td>\n",
       "      <td>0</td>\n",
       "      <td>0</td>\n",
       "      <td>0</td>\n",
       "      <td>0</td>\n",
       "      <td>0</td>\n",
       "      <td>...</td>\n",
       "      <td>50146</td>\n",
       "      <td>50235</td>\n",
       "      <td>48984</td>\n",
       "      <td>1689</td>\n",
       "      <td>2164</td>\n",
       "      <td>2500</td>\n",
       "      <td>3480</td>\n",
       "      <td>2500</td>\n",
       "      <td>3000</td>\n",
       "      <td>0</td>\n",
       "    </tr>\n",
       "    <tr>\n",
       "      <th>2</th>\n",
       "      <td>20000</td>\n",
       "      <td>2</td>\n",
       "      <td>6</td>\n",
       "      <td>2</td>\n",
       "      <td>22</td>\n",
       "      <td>0</td>\n",
       "      <td>0</td>\n",
       "      <td>0</td>\n",
       "      <td>0</td>\n",
       "      <td>0</td>\n",
       "      <td>...</td>\n",
       "      <td>1434</td>\n",
       "      <td>500</td>\n",
       "      <td>0</td>\n",
       "      <td>4641</td>\n",
       "      <td>1019</td>\n",
       "      <td>900</td>\n",
       "      <td>0</td>\n",
       "      <td>1500</td>\n",
       "      <td>0</td>\n",
       "      <td>1</td>\n",
       "    </tr>\n",
       "    <tr>\n",
       "      <th>3</th>\n",
       "      <td>260000</td>\n",
       "      <td>2</td>\n",
       "      <td>4</td>\n",
       "      <td>2</td>\n",
       "      <td>33</td>\n",
       "      <td>0</td>\n",
       "      <td>0</td>\n",
       "      <td>0</td>\n",
       "      <td>0</td>\n",
       "      <td>0</td>\n",
       "      <td>...</td>\n",
       "      <td>27821</td>\n",
       "      <td>30767</td>\n",
       "      <td>29890</td>\n",
       "      <td>5000</td>\n",
       "      <td>5000</td>\n",
       "      <td>1137</td>\n",
       "      <td>5000</td>\n",
       "      <td>1085</td>\n",
       "      <td>5000</td>\n",
       "      <td>0</td>\n",
       "    </tr>\n",
       "    <tr>\n",
       "      <th>4</th>\n",
       "      <td>150000</td>\n",
       "      <td>1</td>\n",
       "      <td>4</td>\n",
       "      <td>2</td>\n",
       "      <td>32</td>\n",
       "      <td>0</td>\n",
       "      <td>0</td>\n",
       "      <td>0</td>\n",
       "      <td>-1</td>\n",
       "      <td>0</td>\n",
       "      <td>...</td>\n",
       "      <td>150464</td>\n",
       "      <td>143375</td>\n",
       "      <td>146411</td>\n",
       "      <td>4019</td>\n",
       "      <td>146896</td>\n",
       "      <td>157436</td>\n",
       "      <td>4600</td>\n",
       "      <td>4709</td>\n",
       "      <td>5600</td>\n",
       "      <td>0</td>\n",
       "    </tr>\n",
       "  </tbody>\n",
       "</table>\n",
       "<p>5 rows × 24 columns</p>\n",
       "</div>"
      ],
      "text/plain": [
       "   limit_balance  sex  education_level  marital_status  age  pay_1  pay_2  \\\n",
       "0          80000    1                6               1   54      0      0   \n",
       "1         200000    1                4               1   49      0      0   \n",
       "2          20000    2                6               2   22      0      0   \n",
       "3         260000    2                4               2   33      0      0   \n",
       "4         150000    1                4               2   32      0      0   \n",
       "\n",
       "   pay_3  pay_4  pay_5  ...  bill_amt_4  bill_amt_5  bill_amt_6  pay_amt_1  \\\n",
       "0      0      0      0  ...       29296       26210       17643       2545   \n",
       "1      0      0      0  ...       50146       50235       48984       1689   \n",
       "2      0      0      0  ...        1434         500           0       4641   \n",
       "3      0      0      0  ...       27821       30767       29890       5000   \n",
       "4      0     -1      0  ...      150464      143375      146411       4019   \n",
       "\n",
       "   pay_amt_2  pay_amt_3  pay_amt_4  pay_amt_5  pay_amt_6  \\\n",
       "0       2208       1336       2232        542        348   \n",
       "1       2164       2500       3480       2500       3000   \n",
       "2       1019        900          0       1500          0   \n",
       "3       5000       1137       5000       1085       5000   \n",
       "4     146896     157436       4600       4709       5600   \n",
       "\n",
       "   default_payment_next_month  \n",
       "0                           1  \n",
       "1                           0  \n",
       "2                           1  \n",
       "3                           0  \n",
       "4                           0  \n",
       "\n",
       "[5 rows x 24 columns]"
      ]
     },
     "execution_count": 280,
     "metadata": {},
     "output_type": "execute_result"
    }
   ],
   "source": [
    "# Changed column name 'pay_0' to 'pay_1'\n",
    "data.rename(columns={'pay_0': 'pay_1'}, inplace=True)\n",
    "\n",
    "# Displays the first 5 rows of data in the dataset\n",
    "data.head()"
   ]
  },
  {
   "cell_type": "markdown",
   "metadata": {},
   "source": [
    "We have finished adjusting the column names. It can be seen from the table above that the pay_0 column has changed its name to pay_1"
   ]
  },
  {
   "cell_type": "markdown",
   "metadata": {},
   "source": [
    "#### 4.3.3 Combining Data\n",
    "\n",
    "Based on information from the website , it can be seen that labels 5 and 6 in education_level have the value 'unknown. Apart from that, the identity of label 0 is not explained. Therefore, these three labels will be considered as other labels so the label value will be changed to '4'. Label '4' is a label with category 'other'"
   ]
  },
  {
   "cell_type": "code",
   "execution_count": 281,
   "metadata": {},
   "outputs": [
    {
     "data": {
      "text/plain": [
       "array([4, 1, 2, 3], dtype=int64)"
      ]
     },
     "execution_count": 281,
     "metadata": {},
     "output_type": "execute_result"
    }
   ],
   "source": [
    "# Changing the label value of the 'education_level' column\n",
    "data['education_level'] = data['education_level'].replace(0, 4)\n",
    "data['education_level'] = data['education_level'].replace(5, 4)\n",
    "data['education_level'] = data['education_level'].replace(6, 4)\n",
    "\n",
    "# Displays unique values in the 'education_level' column\n",
    "data['education_level'].unique()"
   ]
  },
  {
   "cell_type": "markdown",
   "metadata": {},
   "source": [
    "## 5. Exploratory Data Analysis (EDA)\n",
    "\n",
    "Before we continue we will copy the original dataset in order to keep the real data in case there is something unwanted during the data Exploration process"
   ]
  },
  {
   "cell_type": "code",
   "execution_count": 282,
   "metadata": {},
   "outputs": [],
   "source": [
    "# copy dataframe for visualization\n",
    "data_visualization = data.copy()"
   ]
  },
  {
   "cell_type": "markdown",
   "metadata": {},
   "source": [
    "Done!! Let's Continue to the visualization process."
   ]
  },
  {
   "cell_type": "markdown",
   "metadata": {},
   "source": [
    "### 5.1 Data distribution based on default payment status"
   ]
  },
  {
   "cell_type": "code",
   "execution_count": 283,
   "metadata": {},
   "outputs": [
    {
     "data": {
      "image/png": "[encoded data removed]",
      "text/plain": [
       "<Figure size 500x500 with 1 Axes>"
      ]
     },
     "metadata": {},
     "output_type": "display_data"
    }
   ],
   "source": [
    "# Create data for pie charts\n",
    "labels = ['Not Default', 'Default']\n",
    "sizes = data_visualization['default_payment_next_month'].value_counts()\n",
    "colors = ['#1f77b4', '#ff7f0e'] # Darker color palette\n",
    "explode = (0.1, 0) # Break the first chunk (No Default)\n",
    "\n",
    "# Create a pie chart\n",
    "plt.figure(figsize=(5, 5))\n",
    "plt.pie(sizes, explode=explode, labels=labels, colors=colors, autopct='%1.1f%%', shadow=True, startangle=140)\n",
    "\n",
    "# Add title\n",
    "plt.title(\"Lots of Data Based on Default State\", fontsize=16)\n",
    "\n",
    "# Displays a pie chart\n",
    "plt.axis('equal') # Set the aspect ratio to be a circle\n",
    "plt.show()"
   ]
  },
  {
   "cell_type": "markdown",
   "metadata": {},
   "source": [
    "From the information obtained from the dataset source, we find that 0 represents those who have not experienced a default payment and 1 represents those who have default payment status.\n",
    "\n",
    "From the visualization above, we know that the number of people who do not experience default payments (arrears/failed to pay) is greater than those who default, namely the ratio is 78.58% : 21.42%"
   ]
  },
  {
   "cell_type": "markdown",
   "metadata": {},
   "source": [
    "### 5.2 Visualization of the sex column with default_payment_next_month"
   ]
  },
  {
   "cell_type": "code",
   "execution_count": 284,
   "metadata": {},
   "outputs": [
    {
     "data": {
      "text/plain": [
       "<Figure size 1000x600 with 0 Axes>"
      ]
     },
     "metadata": {},
     "output_type": "display_data"
    },
    {
     "data": {
      "image/png": "[encoded data removed]",
      "text/plain": [
       "<Figure size 640x480 with 1 Axes>"
      ]
     },
     "metadata": {},
     "output_type": "display_data"
    }
   ],
   "source": [
    "# Menghitung jumlah default dan non-default payment untuk setiap kombinasi 'sex' dan 'default_payment_next_month'\n",
    "sexCount = data_visualization.groupby(['sex', 'default_payment_next_month']).size().unstack()\n",
    "\n",
    "# Membuat bar plot menggunakan seaborn untuk memvisualisasikan jumlah default dan non-default payment berdasarkan 'sex'\n",
    "plt.figure(figsize=(10, 6))\n",
    "ax = sexCount.plot(kind='bar', stacked=True, alpha=0.9, color=['#1f77b4', '#ff7f0e'])\n",
    "\n",
    "# Menambahkan label untuk masing-masing segmen\n",
    "for container in ax.containers:\n",
    "    ax.bar_label(container, label_type='edge')  # Menambahkan label di pinggir bar\n",
    "\n",
    "# Mengatur judul barchart, label x, dan label y\n",
    "plt.xlabel('Sex', fontsize=14, fontweight='bold', color='black')\n",
    "plt.ylabel('Count', fontsize=14, fontweight='bold', color='black')\n",
    "plt.title('Default Payments by Sex', fontsize=16, fontweight='bold', color='black')\n",
    "\n",
    "# Menambahkan bayangan pada bar chart\n",
    "ax.legend(title='Default Payment', fontsize=12, title_fontsize='14')\n",
    "ax.spines['top'].set_visible(False)\n",
    "ax.spines['right'].set_visible(False)\n",
    "\n",
    "# Menyesuaikan tata letak label x\n",
    "plt.xticks([0, 1], ['Male', 'Female'], rotation=0, fontsize=12, fontweight='bold', color='black')\n",
    "\n",
    "# Menambahkan variasi warna yang menarik\n",
    "# ax.set_prop_cycle('color', sns.color_palette('muted'))\n",
    "\n",
    "# Menampilkan plot dengan grid untuk menambah kejelasan\n",
    "plt.grid(True, axis='y', linestyle='--', alpha=0.5)\n",
    "\n",
    "# Menampilkan plot\n",
    "plt.tight_layout()  # Menyesuaikan tata letak agar tidak tumpang tindih\n",
    "plt.show()"
   ]
  },
  {
   "cell_type": "markdown",
   "metadata": {},
   "source": [
    "Based on the stacked bar chart above, it can be seen that 901 of the 1163 men, or 77.47%, did not default, and the rest failed to pay. Meanwhile, for women, 1428 out of 1801, or 79.3%, did not fail to pay, and the rest failed to pay.\n",
    "\n",
    "Based on a comparison between men and women, the percentage of those who did not default was not much different (77.47% and 79.3%)."
   ]
  },
  {
   "cell_type": "markdown",
   "metadata": {},
   "source": [
    "### 5.3 Visualization of the Marital Status column with default_payment_next_month"
   ]
  },
  {
   "cell_type": "code",
   "execution_count": 285,
   "metadata": {},
   "outputs": [
    {
     "data": {
      "text/plain": [
       "<Figure size 1000x600 with 0 Axes>"
      ]
     },
     "metadata": {},
     "output_type": "display_data"
    },
    {
     "data": {
      "image/png": "[encoded data removed]",
      "text/plain": [
       "<Figure size 640x480 with 1 Axes>"
      ]
     },
     "metadata": {},
     "output_type": "display_data"
    }
   ],
   "source": [
    "# Menghitung jumlah default dan non-default payment untuk setiap kombinasi 'marital_status' dan 'default_payment_next_month'\n",
    "MSCount = data_visualization.groupby(['marital_status', 'default_payment_next_month']).size().unstack()\n",
    "\n",
    "# Membuat bar plot menggunakan seaborn untuk memvisualisasikan jumlah default dan non-default payment berdasarkan 'marital_status'\n",
    "plt.figure(figsize=(10, 6))\n",
    "ax = MSCount.plot(kind='bar', stacked=True, alpha=0.9, color=sns.color_palette('cubehelix'))\n",
    "\n",
    "# Menambahkan label untuk masing-masing segmen\n",
    "for container in ax.containers:\n",
    "    ax.bar_label(container, label_type='edge')  # Menambahkan label di pinggir bar\n",
    "\n",
    "# Mengatur judul barchart, label x, dan label y\n",
    "plt.xlabel('Marital Status', fontsize=14, fontweight='bold', color='black')\n",
    "plt.ylabel('Count', fontsize=14, fontweight='bold', color='black')\n",
    "plt.title('Default Payments by Marital Status', fontsize=16, fontweight='bold', color='black')\n",
    "\n",
    "# Menambahkan bayangan pada bar chart\n",
    "ax.legend(title='Default Payment', fontsize=12, title_fontsize='14')\n",
    "ax.spines['top'].set_visible(False)\n",
    "ax.spines['right'].set_visible(False)\n",
    "\n",
    "# Menyesuaikan tata letak label x\n",
    "plt.xticks([0, 1, 2, 3], ['Others', 'Married', 'Single', 'Divorce'], rotation=0, fontsize=12, fontweight='bold', color='black')\n",
    "\n",
    "# Menampilkan plot dengan grid untuk menambah kejelasan\n",
    "plt.grid(True, axis='y', linestyle='--', alpha=0.5)\n",
    "\n",
    "# Menampilkan plot\n",
    "plt.tight_layout()  # Menyesuaikan tata letak agar tidak tumpang tindih\n",
    "plt.show()"
   ]
  },
  {
   "cell_type": "markdown",
   "metadata": {},
   "source": [
    "Based on the stacked bar chart above, it can be seen that as many as 4 out of 4 (100%) clients whose marital status is unknown were declared not in default. As for clients who are married, there are 1029 out of 1331 (77.33%) of them who do not fail to pay, and the rest fail to pay. Meanwhile, for unmarried people, 1267 out of 1594, or 79.48%, did not fail to pay, and the rest failed to pay. And 29 of the 35 divorced (82.86%) did not fail to pay, and the rest failed to pay."
   ]
  },
  {
   "cell_type": "markdown",
   "metadata": {},
   "source": [
    "### 5.4 Correlation of Numeric Column with default payment"
   ]
  },
  {
   "cell_type": "code",
   "execution_count": 286,
   "metadata": {},
   "outputs": [
    {
     "data": {
      "image/png": "[encoded data removed]",
      "text/plain": [
       "<Figure size 1200x800 with 2 Axes>"
      ]
     },
     "metadata": {},
     "output_type": "display_data"
    }
   ],
   "source": [
    "dfNum = data_visualization[['limit_balance', 'age', 'bill_amt_1', 'bill_amt_2', 'bill_amt_3', 'bill_amt_4', 'bill_amt_5', 'bill_amt_6',\n",
    "            'pay_amt_1', 'pay_amt_2', 'pay_amt_3', 'pay_amt_4', 'pay_amt_5', 'pay_amt_6', 'default_payment_next_month']]\n",
    "\n",
    "# Membuat visualisasi heatmap\n",
    "plt.figure(figsize=(12, 8))\n",
    "sns.set(style='whitegrid')  # Mengatur gaya plot menjadi whitegrid\n",
    "heatmap = sns.heatmap(dfNum.corr(method='spearman'), annot=True, fmt=\".2f\", cmap='viridis', linewidths=0.5, linecolor='black')\n",
    "\n",
    "# Menambahkan judul pada heatmap\n",
    "heatmap.set_title('Korelasi antar Fitur', fontsize=16)\n",
    "\n",
    "# Menampilkan plot\n",
    "plt.show()"
   ]
  },
  {
   "cell_type": "markdown",
   "metadata": {},
   "source": [
    "Based on the correlation heatmap above, it can be seen that the limit_balance variable has the highest correlation with the default_payment variable."
   ]
  },
  {
   "cell_type": "markdown",
   "metadata": {},
   "source": [
    "## 6. Feature Engineering\n",
    "\n",
    "Before going any further, let's copy the data that we will use in building the model. This is done to avoid things that we don't want in the original data. The data that has been previously loaded will be entered into a new variable where the data in that variable will be processed"
   ]
  },
  {
   "cell_type": "code",
   "execution_count": 287,
   "metadata": {},
   "outputs": [],
   "source": [
    "# copy the original data set\n",
    "df = data.copy()"
   ]
  },
  {
   "cell_type": "markdown",
   "metadata": {},
   "source": [
    "---\n",
    "### 6.1 Analyzing correlations between data\n",
    "\n",
    "To test the correlation of data in the dataset against default_payment_next_mont, we can use the correlation test method where we will find out which target column has a correlation with which numeric and categorical columns. ***To see the correlation value between the columns***, we will use ***heatmap visualization*** and also ***statistical tests*** to get the p-value between the two columns"
   ]
  },
  {
   "cell_type": "markdown",
   "metadata": {},
   "source": [
    "#### 6.1.1 Numerical"
   ]
  },
  {
   "cell_type": "markdown",
   "metadata": {},
   "source": [
    "To find the correlation between the target and the numerical column , we need to first ***determine which columns fall into the numerical category*** and put them into one variable to make it easier for us to process the data."
   ]
  },
  {
   "cell_type": "code",
   "execution_count": 1,
   "metadata": {},
   "outputs": [
    {
     "ename": "NameError",
     "evalue": "name 'df' is not defined",
     "output_type": "error",
     "traceback": [
      "\u001b[1;31m---------------------------------------------------------------------------\u001b[0m",
      "\u001b[1;31mNameError\u001b[0m                                 Traceback (most recent call last)",
      "Cell \u001b[1;32mIn[1], line 8\u001b[0m\n\u001b[0;32m      2\u001b[0m numeric_column \u001b[38;5;241m=\u001b[39m [\u001b[38;5;124m'\u001b[39m\u001b[38;5;124mlimit_balance\u001b[39m\u001b[38;5;124m'\u001b[39m, \u001b[38;5;124m'\u001b[39m\u001b[38;5;124mage\u001b[39m\u001b[38;5;124m'\u001b[39m,\u001b[38;5;124m'\u001b[39m\u001b[38;5;124mbill_amt_1\u001b[39m\u001b[38;5;124m'\u001b[39m,\n\u001b[0;32m      3\u001b[0m        \u001b[38;5;124m'\u001b[39m\u001b[38;5;124mbill_amt_2\u001b[39m\u001b[38;5;124m'\u001b[39m, \u001b[38;5;124m'\u001b[39m\u001b[38;5;124mbill_amt_3\u001b[39m\u001b[38;5;124m'\u001b[39m, \u001b[38;5;124m'\u001b[39m\u001b[38;5;124mbill_amt_4\u001b[39m\u001b[38;5;124m'\u001b[39m, \u001b[38;5;124m'\u001b[39m\u001b[38;5;124mbill_amt_5\u001b[39m\u001b[38;5;124m'\u001b[39m, \u001b[38;5;124m'\u001b[39m\u001b[38;5;124mbill_amt_6\u001b[39m\u001b[38;5;124m'\u001b[39m,\n\u001b[0;32m      4\u001b[0m        \u001b[38;5;124m'\u001b[39m\u001b[38;5;124mpay_amt_1\u001b[39m\u001b[38;5;124m'\u001b[39m, \u001b[38;5;124m'\u001b[39m\u001b[38;5;124mpay_amt_2\u001b[39m\u001b[38;5;124m'\u001b[39m, \u001b[38;5;124m'\u001b[39m\u001b[38;5;124mpay_amt_3\u001b[39m\u001b[38;5;124m'\u001b[39m, \u001b[38;5;124m'\u001b[39m\u001b[38;5;124mpay_amt_4\u001b[39m\u001b[38;5;124m'\u001b[39m, \u001b[38;5;124m'\u001b[39m\u001b[38;5;124mpay_amt_5\u001b[39m\u001b[38;5;124m'\u001b[39m,\n\u001b[0;32m      5\u001b[0m        \u001b[38;5;124m'\u001b[39m\u001b[38;5;124mpay_amt_6\u001b[39m\u001b[38;5;124m'\u001b[39m, \u001b[38;5;124m'\u001b[39m\u001b[38;5;124mdefault_payment_next_month\u001b[39m\u001b[38;5;124m'\u001b[39m]\n\u001b[0;32m      7\u001b[0m \u001b[38;5;66;03m# Create a new variable named df_numeric which contains other numeric column \u001b[39;00m\n\u001b[1;32m----> 8\u001b[0m df_numeric \u001b[38;5;241m=\u001b[39m df[numeric_column]\n",
      "\u001b[1;31mNameError\u001b[0m: name 'df' is not defined"
     ]
    }
   ],
   "source": [
    "# Create a list containing other numeric columns\n",
    "numeric_column = ['limit_balance', 'age','bill_amt_1',\n",
    "       'bill_amt_2', 'bill_amt_3', 'bill_amt_4', 'bill_amt_5', 'bill_amt_6',\n",
    "       'pay_amt_1', 'pay_amt_2', 'pay_amt_3', 'pay_amt_4', 'pay_amt_5',\n",
    "       'pay_amt_6', 'default_payment_next_month']\n",
    "\n",
    "# Create a new variable named df_numeric which contains other numeric column \n",
    "df_numeric = df[numeric_column]"
   ]
  },
  {
   "cell_type": "markdown",
   "metadata": {},
   "source": [
    "We know that the target column we want to search for from this dataset is of the categorical type. After determining which features are of the numerical type, we will carry out a correlation test. ***Correlation that is suitable to use to determine the correlation between numerical and categorical columns is Spearman***\n",
    "\n",
    "**Spearman:** denoted as ρ (rho), measures the monotonic relationship between variables. ***It does not assume aspecific distribution*** for the data and is ***appropriate for variables that may not have a linear relationship***. It is ***less sensitive to outliers*** and ***can capture non-linear relationships***."
   ]
  },
  {
   "cell_type": "code",
   "execution_count": 289,
   "metadata": {},
   "outputs": [
    {
     "name": "stdout",
     "output_type": "stream",
     "text": [
      "Correlation between limit_balance with default_payment_next_month\n",
      "Correlation Value :-0.1738755161595824\n",
      "P-value :1.499398493374106e-21 -> Both columns have a correlation\n",
      "==================================================================\n",
      "Correlation between age with default_payment_next_month\n",
      "Correlation Value :0.009889632704753052\n",
      "P-value :0.5904364475708352\n",
      "==================================================================\n",
      "Correlation between bill_amt_1 with default_payment_next_month\n",
      "Correlation Value :-0.003879340705538626\n",
      "P-value :0.8327989249458443\n",
      "==================================================================\n",
      "Correlation between bill_amt_2 with default_payment_next_month\n",
      "Correlation Value :0.006522213848942819\n",
      "P-value :0.7226341863000998\n",
      "==================================================================\n",
      "Correlation between bill_amt_3 with default_payment_next_month\n",
      "Correlation Value :0.010518494823846343\n",
      "P-value :0.5670315032717582\n",
      "==================================================================\n",
      "Correlation between bill_amt_4 with default_payment_next_month\n",
      "Correlation Value :0.01743890669463772\n",
      "P-value :0.34257400406299565\n",
      "==================================================================\n",
      "Correlation between bill_amt_5 with default_payment_next_month\n",
      "Correlation Value :0.022575949832801773\n",
      "P-value :0.21917221451243882\n",
      "==================================================================\n",
      "Correlation between bill_amt_6 with default_payment_next_month\n",
      "Correlation Value :0.028598300247981295\n",
      "P-value :0.11955875877130352\n",
      "==================================================================\n",
      "Correlation between pay_amt_1 with default_payment_next_month\n",
      "Correlation Value :-0.14433907375886193\n",
      "P-value :2.8738459678157036e-15 -> Both columns have a correlation\n",
      "==================================================================\n",
      "Correlation between pay_amt_2 with default_payment_next_month\n",
      "Correlation Value :-0.14419223430500505\n",
      "P-value :3.0670578330812274e-15 -> Both columns have a correlation\n",
      "==================================================================\n",
      "Correlation between pay_amt_3 with default_payment_next_month\n",
      "Correlation Value :-0.11701779351865094\n",
      "P-value :1.6585017093673108e-10 -> Both columns have a correlation\n",
      "==================================================================\n",
      "Correlation between pay_amt_4 with default_payment_next_month\n",
      "Correlation Value :-0.11778678521242109\n",
      "P-value :1.2567151749134826e-10 -> Both columns have a correlation\n",
      "==================================================================\n",
      "Correlation between pay_amt_5 with default_payment_next_month\n",
      "Correlation Value :-0.08610821406885476\n",
      "P-value :2.669959890956803e-06 -> Both columns have a correlation\n",
      "==================================================================\n",
      "Correlation between pay_amt_6 with default_payment_next_month\n",
      "Correlation Value :-0.13570385908929686\n",
      "P-value :1.1773867555630206e-13 -> Both columns have a correlation\n",
      "==================================================================\n",
      "Correlation between default_payment_next_month with default_payment_next_month\n",
      "Correlation Value :1.0\n",
      "P-value :0.0 -> Both columns have a correlation\n",
      "==================================================================\n"
     ]
    }
   ],
   "source": [
    "# Create a loop to test the correlation between the categorical column and 'price' using the kendalltau technique\n",
    "for i in df_numeric:\n",
    "     \n",
    "    corr, pval = stats.spearmanr(df[i],df['default_payment_next_month'])\n",
    "    print(f\"Correlation between {i} with default_payment_next_month\")\n",
    "    print(f\"Correlation Value :{corr}\")\n",
    "    if pval < 0.05:\n",
    "        print(f\"P-value :{pval} -> Both columns have a correlation\")\n",
    "    else:\n",
    "        print(f\"P-value :{pval}\")\n",
    "\n",
    "    print('==================================================================')"
   ]
  },
  {
   "cell_type": "markdown",
   "metadata": {},
   "source": [
    "Based on the results of the Kendall Tau test for the numerical column group, several columns were found that had a correlation with the taget **default_payment_next_month** when viewed from the p-value. Columns that have a p-value < 0.05 are interpreted as having a correlation between the columns. Therefore, we can conclude that there are 7 columns that have correlation with the **'default_payment_next_month'** column, namely the **'limit_balance'**, **'pay_amt_1'**, **'pay_amt_2'**, **'pay_amt_3'**, **'pay_amt_4'**, **'pay_amt_5'** and **'pay_amt_6'** columns"
   ]
  },
  {
   "cell_type": "markdown",
   "metadata": {},
   "source": [
    "#### 6.1.2 Categorical"
   ]
  },
  {
   "cell_type": "markdown",
   "metadata": {},
   "source": [
    "To find the correlation between the target and the categorical column, we need to first ***determine which columns fall into the categorical category*** and put them into one variable to make it easier for us to process the data."
   ]
  },
  {
   "cell_type": "code",
   "execution_count": 290,
   "metadata": {},
   "outputs": [],
   "source": [
    "# Grouping categorical columns into one variable\n",
    "categorical = ['sex', 'education_level', 'marital_status', 'pay_1', 'pay_2', 'pay_3', 'pay_4', 'pay_5', 'pay_6']"
   ]
  },
  {
   "cell_type": "markdown",
   "metadata": {},
   "source": [
    "We know that the target column we want to search for from this dataset is of the categorical type. After determining which features are of the categorical type, we will carry out a correlation test. ***Correlation that is suitable to use to determine the correlation between two categorical columns is Kendall***\n",
    "\n",
    "**Kendall:** denoted by τ (tau), also measures the strength of the monotonic relationship between variables. This correlation ***does not assume a specific data distribution***. It is robust against outliers and can handle non-linear relationships. ***This is usually used when dealing with categorical or ordinal variables***. The Kendall technique is used to test the correlation between the categorical column and the price column because this technique does not require a normal distribution of data. In addition, this technique is suitable for testing the correlation between targets and categorical columns."
   ]
  },
  {
   "cell_type": "code",
   "execution_count": 291,
   "metadata": {},
   "outputs": [
    {
     "name": "stdout",
     "output_type": "stream",
     "text": [
      "Correlation between sex with default_payment_next_month\n",
      "Correlation Value :-0.02162642304931005\n",
      "P-value :0.23911540032389955\n",
      "==================================================================\n",
      "Correlation between education_level with default_payment_next_month\n",
      "Correlation Value :0.05626508656478849\n",
      "P-value :0.001246849607580103 -> Both columns have a correlation\n",
      "==================================================================\n",
      "Correlation between marital_status with default_payment_next_month\n",
      "Correlation Value :-0.026438537470640195\n",
      "P-value :0.14754563955548056\n",
      "==================================================================\n",
      "Correlation between pay_1 with default_payment_next_month\n",
      "Correlation Value :0.3008024729505573\n",
      "P-value :6.040035145851998e-71 -> Both columns have a correlation\n",
      "==================================================================\n",
      "Correlation between pay_2 with default_payment_next_month\n",
      "Correlation Value :0.22901841464845465\n",
      "P-value :7.265130487967078e-41 -> Both columns have a correlation\n",
      "==================================================================\n",
      "Correlation between pay_3 with default_payment_next_month\n",
      "Correlation Value :0.21178014298597372\n",
      "P-value :3.797869325087989e-35 -> Both columns have a correlation\n",
      "==================================================================\n",
      "Correlation between pay_4 with default_payment_next_month\n",
      "Correlation Value :0.1966271069329996\n",
      "P-value :2.1622221709945718e-30 -> Both columns have a correlation\n",
      "==================================================================\n",
      "Correlation between pay_5 with default_payment_next_month\n",
      "Correlation Value :0.19716557575400478\n",
      "P-value :1.87970738409113e-30 -> Both columns have a correlation\n",
      "==================================================================\n",
      "Correlation between pay_6 with default_payment_next_month\n",
      "Correlation Value :0.1811016782475049\n",
      "P-value :4.38465378915166e-26 -> Both columns have a correlation\n",
      "==================================================================\n"
     ]
    }
   ],
   "source": [
    "# Create a loop to test the correlation between the categorical column and 'price' using the kendalltau technique\n",
    "for i in categorical:\n",
    "     \n",
    "    corr, pval = stats.kendalltau(df[i],df['default_payment_next_month'])\n",
    "    print(f\"Correlation between {i} with default_payment_next_month\")\n",
    "    print(f\"Correlation Value :{corr}\")\n",
    "    if pval < 0.05:\n",
    "        print(f\"P-value :{pval} -> Both columns have a correlation\")\n",
    "    else:\n",
    "        print(f\"P-value :{pval}\")\n",
    "\n",
    "    print('==================================================================')"
   ]
  },
  {
   "cell_type": "markdown",
   "metadata": {},
   "source": [
    "Based on the results of the Kendall Tau test for the categorical column group, several columns were found that had a correlation with the taget **default_payment_next_month** when viewed from the p-value. Columns that have a p-value < 0.05 are interpreted as having a correlation between the columns. Therefore, we can conclude that there are 7 columns that have correlation with the **'default_payment_next_month'** column, namely the **'education_level'**, **'pay_1'**, **'pay_2'**, **'pay_3'**, **'pay_4'**, **'pay_5'** and **'pay_6'** columns"
   ]
  },
  {
   "cell_type": "markdown",
   "metadata": {},
   "source": [
    "#### 6.1.3 Dropping columns that have no correlation\n",
    "\n",
    "We have carried out a correlation test between each numerical and categorical column with the 'default_payment_next_month' column. Next, we will delete the columns that have no correlation with the 'default_payment_next_month' column and leave only the columns that have a correlation with the 'default_payment_next_month' column."
   ]
  },
  {
   "cell_type": "code",
   "execution_count": 292,
   "metadata": {},
   "outputs": [
    {
     "data": {
      "text/html": [
       "<div>\n",
       "<style scoped>\n",
       "    .dataframe tbody tr th:only-of-type {\n",
       "        vertical-align: middle;\n",
       "    }\n",
       "\n",
       "    .dataframe tbody tr th {\n",
       "        vertical-align: top;\n",
       "    }\n",
       "\n",
       "    .dataframe thead th {\n",
       "        text-align: right;\n",
       "    }\n",
       "</style>\n",
       "<table border=\"1\" class=\"dataframe\">\n",
       "  <thead>\n",
       "    <tr style=\"text-align: right;\">\n",
       "      <th></th>\n",
       "      <th>limit_balance</th>\n",
       "      <th>education_level</th>\n",
       "      <th>pay_1</th>\n",
       "      <th>pay_2</th>\n",
       "      <th>pay_3</th>\n",
       "      <th>pay_4</th>\n",
       "      <th>pay_5</th>\n",
       "      <th>pay_6</th>\n",
       "      <th>pay_amt_1</th>\n",
       "      <th>pay_amt_2</th>\n",
       "      <th>pay_amt_3</th>\n",
       "      <th>pay_amt_4</th>\n",
       "      <th>pay_amt_5</th>\n",
       "      <th>pay_amt_6</th>\n",
       "      <th>default_payment_next_month</th>\n",
       "    </tr>\n",
       "  </thead>\n",
       "  <tbody>\n",
       "    <tr>\n",
       "      <th>0</th>\n",
       "      <td>80000</td>\n",
       "      <td>4</td>\n",
       "      <td>0</td>\n",
       "      <td>0</td>\n",
       "      <td>0</td>\n",
       "      <td>0</td>\n",
       "      <td>0</td>\n",
       "      <td>0</td>\n",
       "      <td>2545</td>\n",
       "      <td>2208</td>\n",
       "      <td>1336</td>\n",
       "      <td>2232</td>\n",
       "      <td>542</td>\n",
       "      <td>348</td>\n",
       "      <td>1</td>\n",
       "    </tr>\n",
       "    <tr>\n",
       "      <th>1</th>\n",
       "      <td>200000</td>\n",
       "      <td>4</td>\n",
       "      <td>0</td>\n",
       "      <td>0</td>\n",
       "      <td>0</td>\n",
       "      <td>0</td>\n",
       "      <td>0</td>\n",
       "      <td>0</td>\n",
       "      <td>1689</td>\n",
       "      <td>2164</td>\n",
       "      <td>2500</td>\n",
       "      <td>3480</td>\n",
       "      <td>2500</td>\n",
       "      <td>3000</td>\n",
       "      <td>0</td>\n",
       "    </tr>\n",
       "    <tr>\n",
       "      <th>2</th>\n",
       "      <td>20000</td>\n",
       "      <td>4</td>\n",
       "      <td>0</td>\n",
       "      <td>0</td>\n",
       "      <td>0</td>\n",
       "      <td>0</td>\n",
       "      <td>0</td>\n",
       "      <td>0</td>\n",
       "      <td>4641</td>\n",
       "      <td>1019</td>\n",
       "      <td>900</td>\n",
       "      <td>0</td>\n",
       "      <td>1500</td>\n",
       "      <td>0</td>\n",
       "      <td>1</td>\n",
       "    </tr>\n",
       "    <tr>\n",
       "      <th>3</th>\n",
       "      <td>260000</td>\n",
       "      <td>4</td>\n",
       "      <td>0</td>\n",
       "      <td>0</td>\n",
       "      <td>0</td>\n",
       "      <td>0</td>\n",
       "      <td>0</td>\n",
       "      <td>0</td>\n",
       "      <td>5000</td>\n",
       "      <td>5000</td>\n",
       "      <td>1137</td>\n",
       "      <td>5000</td>\n",
       "      <td>1085</td>\n",
       "      <td>5000</td>\n",
       "      <td>0</td>\n",
       "    </tr>\n",
       "    <tr>\n",
       "      <th>4</th>\n",
       "      <td>150000</td>\n",
       "      <td>4</td>\n",
       "      <td>0</td>\n",
       "      <td>0</td>\n",
       "      <td>0</td>\n",
       "      <td>-1</td>\n",
       "      <td>0</td>\n",
       "      <td>0</td>\n",
       "      <td>4019</td>\n",
       "      <td>146896</td>\n",
       "      <td>157436</td>\n",
       "      <td>4600</td>\n",
       "      <td>4709</td>\n",
       "      <td>5600</td>\n",
       "      <td>0</td>\n",
       "    </tr>\n",
       "    <tr>\n",
       "      <th>...</th>\n",
       "      <td>...</td>\n",
       "      <td>...</td>\n",
       "      <td>...</td>\n",
       "      <td>...</td>\n",
       "      <td>...</td>\n",
       "      <td>...</td>\n",
       "      <td>...</td>\n",
       "      <td>...</td>\n",
       "      <td>...</td>\n",
       "      <td>...</td>\n",
       "      <td>...</td>\n",
       "      <td>...</td>\n",
       "      <td>...</td>\n",
       "      <td>...</td>\n",
       "      <td>...</td>\n",
       "    </tr>\n",
       "    <tr>\n",
       "      <th>2960</th>\n",
       "      <td>80000</td>\n",
       "      <td>3</td>\n",
       "      <td>-1</td>\n",
       "      <td>-1</td>\n",
       "      <td>-1</td>\n",
       "      <td>-2</td>\n",
       "      <td>-2</td>\n",
       "      <td>-2</td>\n",
       "      <td>2800</td>\n",
       "      <td>0</td>\n",
       "      <td>0</td>\n",
       "      <td>0</td>\n",
       "      <td>0</td>\n",
       "      <td>0</td>\n",
       "      <td>0</td>\n",
       "    </tr>\n",
       "    <tr>\n",
       "      <th>2961</th>\n",
       "      <td>50000</td>\n",
       "      <td>3</td>\n",
       "      <td>-1</td>\n",
       "      <td>-1</td>\n",
       "      <td>-1</td>\n",
       "      <td>-1</td>\n",
       "      <td>-2</td>\n",
       "      <td>-2</td>\n",
       "      <td>300</td>\n",
       "      <td>5880</td>\n",
       "      <td>0</td>\n",
       "      <td>0</td>\n",
       "      <td>0</td>\n",
       "      <td>0</td>\n",
       "      <td>1</td>\n",
       "    </tr>\n",
       "    <tr>\n",
       "      <th>2962</th>\n",
       "      <td>450000</td>\n",
       "      <td>2</td>\n",
       "      <td>-2</td>\n",
       "      <td>-2</td>\n",
       "      <td>-2</td>\n",
       "      <td>-2</td>\n",
       "      <td>-2</td>\n",
       "      <td>-2</td>\n",
       "      <td>390</td>\n",
       "      <td>780</td>\n",
       "      <td>390</td>\n",
       "      <td>390</td>\n",
       "      <td>390</td>\n",
       "      <td>390</td>\n",
       "      <td>1</td>\n",
       "    </tr>\n",
       "    <tr>\n",
       "      <th>2963</th>\n",
       "      <td>50000</td>\n",
       "      <td>2</td>\n",
       "      <td>-2</td>\n",
       "      <td>-2</td>\n",
       "      <td>-2</td>\n",
       "      <td>-2</td>\n",
       "      <td>-2</td>\n",
       "      <td>-2</td>\n",
       "      <td>390</td>\n",
       "      <td>390</td>\n",
       "      <td>390</td>\n",
       "      <td>390</td>\n",
       "      <td>0</td>\n",
       "      <td>780</td>\n",
       "      <td>0</td>\n",
       "    </tr>\n",
       "    <tr>\n",
       "      <th>2964</th>\n",
       "      <td>290000</td>\n",
       "      <td>2</td>\n",
       "      <td>1</td>\n",
       "      <td>-2</td>\n",
       "      <td>-2</td>\n",
       "      <td>-2</td>\n",
       "      <td>-2</td>\n",
       "      <td>-2</td>\n",
       "      <td>10000</td>\n",
       "      <td>800</td>\n",
       "      <td>3184</td>\n",
       "      <td>390</td>\n",
       "      <td>390</td>\n",
       "      <td>6617</td>\n",
       "      <td>0</td>\n",
       "    </tr>\n",
       "  </tbody>\n",
       "</table>\n",
       "<p>2964 rows × 15 columns</p>\n",
       "</div>"
      ],
      "text/plain": [
       "      limit_balance  education_level  pay_1  pay_2  pay_3  pay_4  pay_5  \\\n",
       "0             80000                4      0      0      0      0      0   \n",
       "1            200000                4      0      0      0      0      0   \n",
       "2             20000                4      0      0      0      0      0   \n",
       "3            260000                4      0      0      0      0      0   \n",
       "4            150000                4      0      0      0     -1      0   \n",
       "...             ...              ...    ...    ...    ...    ...    ...   \n",
       "2960          80000                3     -1     -1     -1     -2     -2   \n",
       "2961          50000                3     -1     -1     -1     -1     -2   \n",
       "2962         450000                2     -2     -2     -2     -2     -2   \n",
       "2963          50000                2     -2     -2     -2     -2     -2   \n",
       "2964         290000                2      1     -2     -2     -2     -2   \n",
       "\n",
       "      pay_6  pay_amt_1  pay_amt_2  pay_amt_3  pay_amt_4  pay_amt_5  pay_amt_6  \\\n",
       "0         0       2545       2208       1336       2232        542        348   \n",
       "1         0       1689       2164       2500       3480       2500       3000   \n",
       "2         0       4641       1019        900          0       1500          0   \n",
       "3         0       5000       5000       1137       5000       1085       5000   \n",
       "4         0       4019     146896     157436       4600       4709       5600   \n",
       "...     ...        ...        ...        ...        ...        ...        ...   \n",
       "2960     -2       2800          0          0          0          0          0   \n",
       "2961     -2        300       5880          0          0          0          0   \n",
       "2962     -2        390        780        390        390        390        390   \n",
       "2963     -2        390        390        390        390          0        780   \n",
       "2964     -2      10000        800       3184        390        390       6617   \n",
       "\n",
       "      default_payment_next_month  \n",
       "0                              1  \n",
       "1                              0  \n",
       "2                              1  \n",
       "3                              0  \n",
       "4                              0  \n",
       "...                          ...  \n",
       "2960                           0  \n",
       "2961                           1  \n",
       "2962                           1  \n",
       "2963                           0  \n",
       "2964                           0  \n",
       "\n",
       "[2964 rows x 15 columns]"
      ]
     },
     "execution_count": 292,
     "metadata": {},
     "output_type": "execute_result"
    }
   ],
   "source": [
    "# Select variables that have a correlation with the 'price' column\n",
    "df_selection = df[['limit_balance','education_level', 'pay_1', 'pay_2', 'pay_3', 'pay_4', 'pay_5', 'pay_6', 'pay_amt_1', 'pay_amt_2', 'pay_amt_3', 'pay_amt_4', 'pay_amt_5',\n",
    "       'pay_amt_6', 'default_payment_next_month']]\n",
    "df_selection"
   ]
  },
  {
   "cell_type": "code",
   "execution_count": 293,
   "metadata": {},
   "outputs": [
    {
     "data": {
      "text/plain": [
       "array([ 0,  2,  3,  4,  5,  6,  7, -1, -2], dtype=int64)"
      ]
     },
     "execution_count": 293,
     "metadata": {},
     "output_type": "execute_result"
    }
   ],
   "source": [
    "df_selection['pay_5'].unique()"
   ]
  },
  {
   "cell_type": "markdown",
   "metadata": {},
   "source": [
    "---\n",
    "### 6.2 Cardinality Check\n",
    "\n",
    "**Cardinality checking** is a way to **check the number of unique entities** in a data set or data structure. It helps ensure there are no duplicates in the data, understands data characteristics such as value distribution, and helps in optimizing database and query performance by estimating the number of rows to be affected.\n",
    "\n",
    "In this dataset, we will perform a cardinality check on categorical columns"
   ]
  },
  {
   "cell_type": "code",
   "execution_count": 294,
   "metadata": {},
   "outputs": [
    {
     "data": {
      "text/html": [
       "<div>\n",
       "<style scoped>\n",
       "    .dataframe tbody tr th:only-of-type {\n",
       "        vertical-align: middle;\n",
       "    }\n",
       "\n",
       "    .dataframe tbody tr th {\n",
       "        vertical-align: top;\n",
       "    }\n",
       "\n",
       "    .dataframe thead th {\n",
       "        text-align: right;\n",
       "    }\n",
       "</style>\n",
       "<table border=\"1\" class=\"dataframe\">\n",
       "  <thead>\n",
       "    <tr style=\"text-align: right;\">\n",
       "      <th></th>\n",
       "      <th>Column Name</th>\n",
       "      <th>Number of Unique Values</th>\n",
       "      <th>Unique Values</th>\n",
       "    </tr>\n",
       "  </thead>\n",
       "  <tbody>\n",
       "    <tr>\n",
       "      <th>0</th>\n",
       "      <td>education_level</td>\n",
       "      <td>4</td>\n",
       "      <td>[4, 1, 2, 3]</td>\n",
       "    </tr>\n",
       "    <tr>\n",
       "      <th>1</th>\n",
       "      <td>pay_1</td>\n",
       "      <td>11</td>\n",
       "      <td>[0, 2, 1, -1, -2, 3, 4, 5, 6, 7, 8]</td>\n",
       "    </tr>\n",
       "    <tr>\n",
       "      <th>2</th>\n",
       "      <td>pay_2</td>\n",
       "      <td>10</td>\n",
       "      <td>[0, -1, 2, 3, -2, 4, 1, 5, 6, 7]</td>\n",
       "    </tr>\n",
       "    <tr>\n",
       "      <th>3</th>\n",
       "      <td>pay_3</td>\n",
       "      <td>9</td>\n",
       "      <td>[0, 2, -2, 3, -1, 4, 5, 6, 7]</td>\n",
       "    </tr>\n",
       "    <tr>\n",
       "      <th>4</th>\n",
       "      <td>pay_4</td>\n",
       "      <td>10</td>\n",
       "      <td>[0, -1, 2, 3, 4, 5, 6, 7, 8, -2]</td>\n",
       "    </tr>\n",
       "    <tr>\n",
       "      <th>5</th>\n",
       "      <td>pay_5</td>\n",
       "      <td>9</td>\n",
       "      <td>[0, 2, 3, 4, 5, 6, 7, -1, -2]</td>\n",
       "    </tr>\n",
       "    <tr>\n",
       "      <th>6</th>\n",
       "      <td>pay_6</td>\n",
       "      <td>8</td>\n",
       "      <td>[0, -1, 2, 3, -2, 4, 6, 7]</td>\n",
       "    </tr>\n",
       "  </tbody>\n",
       "</table>\n",
       "</div>"
      ],
      "text/plain": [
       "       Column Name  Number of Unique Values  \\\n",
       "0  education_level                        4   \n",
       "1            pay_1                       11   \n",
       "2            pay_2                       10   \n",
       "3            pay_3                        9   \n",
       "4            pay_4                       10   \n",
       "5            pay_5                        9   \n",
       "6            pay_6                        8   \n",
       "\n",
       "                         Unique Values  \n",
       "0                         [4, 1, 2, 3]  \n",
       "1  [0, 2, 1, -1, -2, 3, 4, 5, 6, 7, 8]  \n",
       "2     [0, -1, 2, 3, -2, 4, 1, 5, 6, 7]  \n",
       "3        [0, 2, -2, 3, -1, 4, 5, 6, 7]  \n",
       "4     [0, -1, 2, 3, 4, 5, 6, 7, 8, -2]  \n",
       "5        [0, 2, 3, 4, 5, 6, 7, -1, -2]  \n",
       "6           [0, -1, 2, 3, -2, 4, 6, 7]  "
      ]
     },
     "execution_count": 294,
     "metadata": {},
     "output_type": "execute_result"
    }
   ],
   "source": [
    "# set colwidth hidher\n",
    "pd.set_option('display.max.colwidth', None)\n",
    "\n",
    "cat_cols = ['education_level','pay_1', 'pay_2', 'pay_3', 'pay_4', 'pay_5', 'pay_6']\n",
    "\n",
    "# Create a looping for unique values details\n",
    "listItem = []\n",
    "for col in cat_cols :\n",
    "    listItem.append( [col, df_selection[col].nunique(), df_selection[col].unique()])\n",
    "\n",
    "# Show the dataframe\n",
    "pd.DataFrame(columns=['Column Name', 'Number of Unique Values', 'Unique Values'], data=listItem)"
   ]
  },
  {
   "cell_type": "markdown",
   "metadata": {},
   "source": [
    "We have carried out cardinality checking on each column and from the test results, it is known that:\n",
    "\n",
    "- **education_level :** Have 4 Unique Values\n",
    "\n",
    "- **pay_1 :** Have 11 Unique Values\n",
    "\n",
    "- **pay_2 :** Have 10 Unique Values\n",
    "\n",
    "- **pay_3 :** Have 9 Unique Values\n",
    "\n",
    "- **pay_4 :** Have 10 Unique Values\n",
    "\n",
    "- **pay_5 :** Have 9 Unique Values\n",
    "\n",
    "- **pay_6 :** Have 8 Unique Values\n",
    "\n",
    "From the cardinality checking results, each column is still included in low cardinality. Therefore, we will leave these columns for further analysis"
   ]
  },
  {
   "cell_type": "markdown",
   "metadata": {},
   "source": [
    "---\n",
    "### 6.3 Data Splitting\n",
    "\n",
    "To create a machine learning model, we need to divide the data into two parts, namely the one we want to predict/target (y) and the one to predict/feature (X)"
   ]
  },
  {
   "cell_type": "code",
   "execution_count": 295,
   "metadata": {},
   "outputs": [],
   "source": [
    "# Define the X and y\n",
    "# Separating independent variables (features) and dependent variables (targets)\n",
    "X = df_selection.drop(['default_payment_next_month'], axis=1)\n",
    "y = df_selection['default_payment_next_month']"
   ]
  },
  {
   "cell_type": "markdown",
   "metadata": {},
   "source": [
    "Then after splitting it into features (X) and targets (y), we will separate each one again into train data (used by the model for learning) and test data (used by the model as test data). We have quite a lot of data, totaling 2964 rows, so we will increase the training data so that the model can understand the data patterns it has and can make better predictions. The data will be divided with a ***ratio of 70: 30***, where the ***train data is 70%*** of the total data and the ***test data is 30%*** of the total data. The ***random state that will be used is 22***.\n",
    "\n",
    "**Random State** is used to set the seed used by the random number generation algorithm. When a particular seed is set, the sequence of random numbers generated will always be the same every time the code is executed with the same seed. This is beneficial in maintaining reproducibility of results, because by using the same seed, we can get the same results when we run a function that generates random numbers."
   ]
  },
  {
   "cell_type": "code",
   "execution_count": 296,
   "metadata": {},
   "outputs": [
    {
     "name": "stdout",
     "output_type": "stream",
     "text": [
      "Shape data train : (2074, 14)\n",
      "Shape data test : (890, 14)\n"
     ]
    }
   ],
   "source": [
    "# Separating data into a training set (train) and a test set (test)\n",
    "# With a ratio of 70:30 and seed (random_state) 22 for reproducible results\n",
    "X_train, X_test, y_train, y_test = train_test_split(X,y, test_size=0.30, random_state=22)\n",
    "\n",
    "# Check the size\n",
    "print(f\"Shape data train : {X_train.shape}\")\n",
    "print(f\"Shape data test : {X_test.shape}\")"
   ]
  },
  {
   "cell_type": "markdown",
   "metadata": {},
   "source": [
    "We have finished dividing the train data and test data. In other words, the ***training data has 2074 samples and 14 features***, while the ***test data has 890 samples and 14 features***. The same number of columns between the training data and the test data indicates that the two datasets have the same structure in terms of the features used for training and testing the model."
   ]
  },
  {
   "cell_type": "markdown",
   "metadata": {},
   "source": [
    "---\n",
    "### 6.4 FIV Check\n",
    "\n",
    "**Variance Inflation Factor (VIF)** is a technique to check Multicollinearity. Multicollinearity is the phenomenon when a number of the independent variables are strongly correlated. The correlation between each independent variables (features) and the dependent variable (target), must be strong. But, between independent variables must have no or little correlation. A VIF of 1 is the best you can have as this indicates that there is no multicollinearity for this variable. A VIF of higher than 5 or 10 indicates that there is a multicollinearity in your model."
   ]
  },
  {
   "cell_type": "code",
   "execution_count": 297,
   "metadata": {},
   "outputs": [
    {
     "data": {
      "text/html": [
       "<div>\n",
       "<style scoped>\n",
       "    .dataframe tbody tr th:only-of-type {\n",
       "        vertical-align: middle;\n",
       "    }\n",
       "\n",
       "    .dataframe tbody tr th {\n",
       "        vertical-align: top;\n",
       "    }\n",
       "\n",
       "    .dataframe thead th {\n",
       "        text-align: right;\n",
       "    }\n",
       "</style>\n",
       "<table border=\"1\" class=\"dataframe\">\n",
       "  <thead>\n",
       "    <tr style=\"text-align: right;\">\n",
       "      <th></th>\n",
       "      <th>variables</th>\n",
       "      <th>VIF</th>\n",
       "    </tr>\n",
       "  </thead>\n",
       "  <tbody>\n",
       "    <tr>\n",
       "      <th>0</th>\n",
       "      <td>limit_balance</td>\n",
       "      <td>2.602523</td>\n",
       "    </tr>\n",
       "    <tr>\n",
       "      <th>1</th>\n",
       "      <td>education_level</td>\n",
       "      <td>1.982578</td>\n",
       "    </tr>\n",
       "    <tr>\n",
       "      <th>2</th>\n",
       "      <td>pay_1</td>\n",
       "      <td>1.885050</td>\n",
       "    </tr>\n",
       "    <tr>\n",
       "      <th>3</th>\n",
       "      <td>pay_2</td>\n",
       "      <td>3.194607</td>\n",
       "    </tr>\n",
       "    <tr>\n",
       "      <th>4</th>\n",
       "      <td>pay_3</td>\n",
       "      <td>3.486333</td>\n",
       "    </tr>\n",
       "    <tr>\n",
       "      <th>5</th>\n",
       "      <td>pay_4</td>\n",
       "      <td>4.158711</td>\n",
       "    </tr>\n",
       "    <tr>\n",
       "      <th>6</th>\n",
       "      <td>pay_5</td>\n",
       "      <td>4.963013</td>\n",
       "    </tr>\n",
       "    <tr>\n",
       "      <th>7</th>\n",
       "      <td>pay_6</td>\n",
       "      <td>3.286482</td>\n",
       "    </tr>\n",
       "    <tr>\n",
       "      <th>8</th>\n",
       "      <td>pay_amt_1</td>\n",
       "      <td>1.436683</td>\n",
       "    </tr>\n",
       "    <tr>\n",
       "      <th>9</th>\n",
       "      <td>pay_amt_2</td>\n",
       "      <td>1.364907</td>\n",
       "    </tr>\n",
       "    <tr>\n",
       "      <th>10</th>\n",
       "      <td>pay_amt_3</td>\n",
       "      <td>1.402310</td>\n",
       "    </tr>\n",
       "    <tr>\n",
       "      <th>11</th>\n",
       "      <td>pay_amt_4</td>\n",
       "      <td>1.235969</td>\n",
       "    </tr>\n",
       "    <tr>\n",
       "      <th>12</th>\n",
       "      <td>pay_amt_5</td>\n",
       "      <td>1.155829</td>\n",
       "    </tr>\n",
       "    <tr>\n",
       "      <th>13</th>\n",
       "      <td>pay_amt_6</td>\n",
       "      <td>1.194191</td>\n",
       "    </tr>\n",
       "  </tbody>\n",
       "</table>\n",
       "</div>"
      ],
      "text/plain": [
       "          variables       VIF\n",
       "0     limit_balance  2.602523\n",
       "1   education_level  1.982578\n",
       "2             pay_1  1.885050\n",
       "3             pay_2  3.194607\n",
       "4             pay_3  3.486333\n",
       "5             pay_4  4.158711\n",
       "6             pay_5  4.963013\n",
       "7             pay_6  3.286482\n",
       "8         pay_amt_1  1.436683\n",
       "9         pay_amt_2  1.364907\n",
       "10        pay_amt_3  1.402310\n",
       "11        pay_amt_4  1.235969\n",
       "12        pay_amt_5  1.155829\n",
       "13        pay_amt_6  1.194191"
      ]
     },
     "execution_count": 297,
     "metadata": {},
     "output_type": "execute_result"
    }
   ],
   "source": [
    "# Perform the FIV test on each column\n",
    "def calculation_VIF(X):\n",
    "    vif = pd.DataFrame()\n",
    "    vif['variables'] = X.columns\n",
    "    vif['VIF'] = [variance_inflation_factor(X.values, i) for i in range (X.shape[1])]\n",
    "    return(vif)\n",
    "\n",
    "# Calculates the VIF value for each variable in the combined DataFrame.\n",
    "calculation_VIF(X)"
   ]
  },
  {
   "cell_type": "markdown",
   "metadata": {},
   "source": [
    "Based on the table above, it can be seen that **each column has an FIV value below 10**, which indicates that **each feature is independent of each other**. Therefore, we can use these columns for modeling later and there are no columns that need to be removed"
   ]
  },
  {
   "cell_type": "markdown",
   "metadata": {},
   "source": [
    "---\n",
    "### 6.4 Handling Outlier\n",
    "\n",
    "To deal with outliers, we will first look at the numeric column visualization to see if the numeric data has any outliers. The numeric columns in this dataset are the columns 'limit_balance', 'pay_amt_1', 'pay_amt_2', 'pay_amt_3', 'pay_amt_4', 'pay_amt_5', 'pay_amt_6', 'education_level, 'pay_1', 'pay_2', 'pay_3', 'pay_4', 'pay_5', and 'pay_6'. However, ***the columns that will be checked are only the 'limit_balance', 'pay_amt_1', 'pay_amt_2', 'pay_amt_3', 'pay_amt_4', 'pay_amt_5', and 'pay_amt_6' columns.***. Based on domain knowledge, ***information in the 'education_level', 'pay_1', 'pay_2', 'pay_3', 'pay_4', 'pay_5', and 'pay_6' columns contains important information and is categorical even though it is in numerical form. Therefore, these columns will not be handled with outlier handling.\n",
    "\n",
    "First, We will use box plots to visualize the distribution of numerical data (columns 'limit_balance', 'pay_amt_1', 'pay_amt_2', 'pay_amt_3', 'pay_amt_4', 'pay_amt_5', and 'pay_amt_6'). This is done to see the actual information from the column so that we can find out whether there are outliers in the column"
   ]
  },
  {
   "cell_type": "code",
   "execution_count": 298,
   "metadata": {},
   "outputs": [
    {
     "data": {
      "image/png": "[encoded data removed]",
      "text/plain": [
       "<Figure size 1500x600 with 1 Axes>"
      ]
     },
     "metadata": {},
     "output_type": "display_data"
    }
   ],
   "source": [
    "# Create a boxplot before handling outliers\n",
    "plt.figure(figsize=(15, 6))\n",
    "X_train[['limit_balance', 'pay_amt_1', 'pay_amt_2', 'pay_amt_3', 'pay_amt_4', 'pay_amt_5', 'pay_amt_6']].boxplot()\n",
    "plt.show()"
   ]
  },
  {
   "cell_type": "markdown",
   "metadata": {},
   "source": [
    "From the visualization above, we can see that there are outliers in the all numeric column. Apart from looking at the visualization, we will ensure there are outliers based on the distribution. We will make calculations to find out the distribution of the columns"
   ]
  },
  {
   "cell_type": "code",
   "execution_count": 299,
   "metadata": {},
   "outputs": [],
   "source": [
    "# Create function to search the skew value, upper and lower boundaries, and outlier flag\n",
    "def outlier_analysis(data):\n",
    "\n",
    "    # create the dataframe and empty lists\n",
    "    result = pd.DataFrame()\n",
    "    col_name = []\n",
    "    skew = []\n",
    "    upper = []\n",
    "    lower = []\n",
    "    has_outliers = []  # New list to indicate if a column has outliers\n",
    "\n",
    "    # Loop for the column\n",
    "    for col in data.columns:\n",
    "        col_name.append(col)\n",
    "\n",
    "        # Calculate Skewness\n",
    "        skew_val = data[col].skew()\n",
    "        skew.append(skew_val)\n",
    "\n",
    "        # Highly Skewed Upper and Lower Boundaries\n",
    "        if skew_val > 1 or skew_val < -1:\n",
    "            IQR = data[col].quantile(0.75) - data[col].quantile(0.25)\n",
    "\n",
    "            lower_boundary = data[col].quantile(0.25) - (IQR * 3)\n",
    "            upper_boundary = data[col].quantile(0.75) + (IQR * 3)\n",
    "\n",
    "        # Moderatly Skewed\n",
    "        elif skew_val > 0.5 or skew_val < -0.5:\n",
    "            IQR = data[col].quantile(0.75) - data[col].quantile(0.25)\n",
    "\n",
    "            lower_boundary = data[col].quantile(0.25) - (IQR * 1.5)\n",
    "            upper_boundary = data[col].quantile(0.75) + (IQR * 1.5)\n",
    "\n",
    "        # Normal Distribution\n",
    "        else :\n",
    "            std = data[col].quantile(0.75) - data[col].quantile(0.25)\n",
    "\n",
    "            lower_boundary = data[col].mean() - (std * 3)\n",
    "            upper_boundary = data[col].mean() + (std * 3)\n",
    "        \n",
    "        # Append the upper and lower value\n",
    "        upper.append(upper_boundary)\n",
    "        lower.append(lower_boundary)\n",
    "\n",
    "        # Check for outliers\n",
    "        outliers = (data[col] < lower_boundary) | (data[col] > upper_boundary)\n",
    "        has_outliers.append(any(outliers))\n",
    "    \n",
    "    # Add into the dataframe\n",
    "    result['columns'] = col_name\n",
    "    result['skewness'] = skew\n",
    "    result['upper boundary'] = upper\n",
    "    result['lower boundary'] = lower\n",
    "    result['has_outliers'] = has_outliers  # Add the has_outliers column\n",
    "\n",
    "    return result\n"
   ]
  },
  {
   "cell_type": "markdown",
   "metadata": {},
   "source": [
    "After making calculations to find out the distribution of data in the column, we will use these calculations in the 'limit balance', 'pay_amt_1', 'pay_amt_2', 'pay_amt_3', 'pay_amt_4', 'pay_amt_5', 'pay_amt_6' column to find out the distribution"
   ]
  },
  {
   "cell_type": "code",
   "execution_count": 300,
   "metadata": {},
   "outputs": [
    {
     "data": {
      "text/html": [
       "<div>\n",
       "<style scoped>\n",
       "    .dataframe tbody tr th:only-of-type {\n",
       "        vertical-align: middle;\n",
       "    }\n",
       "\n",
       "    .dataframe tbody tr th {\n",
       "        vertical-align: top;\n",
       "    }\n",
       "\n",
       "    .dataframe thead th {\n",
       "        text-align: right;\n",
       "    }\n",
       "</style>\n",
       "<table border=\"1\" class=\"dataframe\">\n",
       "  <thead>\n",
       "    <tr style=\"text-align: right;\">\n",
       "      <th></th>\n",
       "      <th>columns</th>\n",
       "      <th>skewness</th>\n",
       "      <th>upper boundary</th>\n",
       "      <th>lower boundary</th>\n",
       "      <th>has_outliers</th>\n",
       "    </tr>\n",
       "  </thead>\n",
       "  <tbody>\n",
       "    <tr>\n",
       "      <th>0</th>\n",
       "      <td>limit_balance</td>\n",
       "      <td>0.964663</td>\n",
       "      <td>500000.00</td>\n",
       "      <td>-220000.0</td>\n",
       "      <td>True</td>\n",
       "    </tr>\n",
       "    <tr>\n",
       "      <th>1</th>\n",
       "      <td>pay_amt_1</td>\n",
       "      <td>12.064465</td>\n",
       "      <td>17274.00</td>\n",
       "      <td>-11198.5</td>\n",
       "      <td>True</td>\n",
       "    </tr>\n",
       "    <tr>\n",
       "      <th>2</th>\n",
       "      <td>pay_amt_2</td>\n",
       "      <td>27.413478</td>\n",
       "      <td>17000.00</td>\n",
       "      <td>-11000.0</td>\n",
       "      <td>True</td>\n",
       "    </tr>\n",
       "    <tr>\n",
       "      <th>3</th>\n",
       "      <td>pay_amt_3</td>\n",
       "      <td>8.015938</td>\n",
       "      <td>16900.00</td>\n",
       "      <td>-11800.0</td>\n",
       "      <td>True</td>\n",
       "    </tr>\n",
       "    <tr>\n",
       "      <th>4</th>\n",
       "      <td>pay_amt_4</td>\n",
       "      <td>8.809402</td>\n",
       "      <td>15032.75</td>\n",
       "      <td>-10687.0</td>\n",
       "      <td>True</td>\n",
       "    </tr>\n",
       "    <tr>\n",
       "      <th>5</th>\n",
       "      <td>pay_amt_5</td>\n",
       "      <td>11.438712</td>\n",
       "      <td>15446.00</td>\n",
       "      <td>-10902.0</td>\n",
       "      <td>True</td>\n",
       "    </tr>\n",
       "    <tr>\n",
       "      <th>6</th>\n",
       "      <td>pay_amt_6</td>\n",
       "      <td>10.490434</td>\n",
       "      <td>15410.00</td>\n",
       "      <td>-11207.5</td>\n",
       "      <td>True</td>\n",
       "    </tr>\n",
       "  </tbody>\n",
       "</table>\n",
       "</div>"
      ],
      "text/plain": [
       "         columns   skewness  upper boundary  lower boundary  has_outliers\n",
       "0  limit_balance   0.964663       500000.00       -220000.0          True\n",
       "1      pay_amt_1  12.064465        17274.00        -11198.5          True\n",
       "2      pay_amt_2  27.413478        17000.00        -11000.0          True\n",
       "3      pay_amt_3   8.015938        16900.00        -11800.0          True\n",
       "4      pay_amt_4   8.809402        15032.75        -10687.0          True\n",
       "5      pay_amt_5  11.438712        15446.00        -10902.0          True\n",
       "6      pay_amt_6  10.490434        15410.00        -11207.5          True"
      ]
     },
     "execution_count": 300,
     "metadata": {},
     "output_type": "execute_result"
    }
   ],
   "source": [
    "# Select the data except categorical and target columns\n",
    "outlier_check = X_train[['limit_balance', 'pay_amt_1', 'pay_amt_2', 'pay_amt_3', 'pay_amt_4', 'pay_amt_5',\n",
    "       'pay_amt_6']]\n",
    "\n",
    "# Check the data skewness and boundaries\n",
    "outlier_analysis(outlier_check)"
   ]
  },
  {
   "cell_type": "markdown",
   "metadata": {},
   "source": [
    "By looking at the visualization images and statistical calculations, we can confirm that the 'limit_balance', 'pay_amt_1', 'pay_amt_2', 'pay_amt_3', 'pay_amt_4', 'pay_amt_5','pay_amt_6' column contains outliers. Because the skewness value is more than 0.5, which means the data distribution is not normal, ***the method used is the capping method using the Interquartile Range (IQR)***. To overcome outliers in the data, we will use the winsorizer technique.\n",
    "\n",
    "**Winsorizer** is a technique in statistics that is used to ***overcome outliers in data by replacing extreme values with less extreme values***, namely by using values that lie at certain percentiles of the data distribution. ***We use winsorizer because outliers in the data can significantly impact statistical analysis and model results***."
   ]
  },
  {
   "cell_type": "code",
   "execution_count": 301,
   "metadata": {},
   "outputs": [],
   "source": [
    "# Capping the skewed distribution\n",
    "winsoriser_fare = Winsorizer(capping_method='iqr',tail='both',fold=1.5,variables=['limit_balance', 'pay_amt_1', 'pay_amt_2', \n",
    "                                                                                  'pay_amt_3', 'pay_amt_4', 'pay_amt_5','pay_amt_6'])\n",
    "\n",
    "X_train = winsoriser_fare.fit_transform(X_train)"
   ]
  },
  {
   "cell_type": "markdown",
   "metadata": {},
   "source": [
    "After capping the data, We will use a box plot to visualize again the distribution of the numerical data (column 'limit_balance''pay_amt_1', 'pay_amt_2', 'pay_amt_3', 'pay_amt_4', 'pay_amt_5','pay_amt_6'). This is done to see information from this column so that we can find out the data distribution after capping"
   ]
  },
  {
   "cell_type": "code",
   "execution_count": 302,
   "metadata": {},
   "outputs": [
    {
     "data": {
      "image/png": "[encoded data removed]",
      "text/plain": [
       "<Figure size 1500x600 with 1 Axes>"
      ]
     },
     "metadata": {},
     "output_type": "display_data"
    }
   ],
   "source": [
    "# Create a boxplot before handling outliers\n",
    "plt.figure(figsize=(15, 6))\n",
    "X_train[['limit_balance', 'pay_amt_1', 'pay_amt_2', 'pay_amt_3', 'pay_amt_4', 'pay_amt_5', 'pay_amt_6']].boxplot()\n",
    "plt.show()"
   ]
  },
  {
   "cell_type": "markdown",
   "metadata": {},
   "source": [
    "Based on the boxplot above, it can be seen that there are no outliers in the numeric feature."
   ]
  },
  {
   "cell_type": "markdown",
   "metadata": {},
   "source": [
    "---\n",
    "### 6.5 Feature Scalling"
   ]
  },
  {
   "cell_type": "code",
   "execution_count": 303,
   "metadata": {},
   "outputs": [],
   "source": [
    "# Menyiapkan daftar kolom yang akan dihandle untuk proses scaling\n",
    "column_scalling = ['limit_balance', 'pay_amt_1', 'pay_amt_2', 'pay_amt_3', 'pay_amt_4', 'pay_amt_5', 'pay_amt_6']\n",
    "\n",
    "# Membuat preprocessor dengan menggunakan make_column_transformer\n",
    "# Kolom-kolom dalam data_kolom_handling_scaling akan diubah menggunakan RobustScaler\n",
    "# remainder=\"passthrough\" mengizinkan kolom lainnya untuk tetap tidak berubah\n",
    "preprocessor = make_column_transformer((RobustScaler(), column_scalling), remainder=\"passthrough\")"
   ]
  },
  {
   "cell_type": "markdown",
   "metadata": {},
   "source": [
    "## 7. Model Definition\n",
    "\n",
    "Here are the models that will be used:\n",
    "\n",
    "1. **Logistic Regression**:\n",
    "   - Logistic Regression is a method in statistics that is used to model the relationship between one or more independent variables (predictors) and a categorical dependent variable (target) that is binary in nature.\n",
    "\n",
    "2. **Support Vector Machine (SVM)**:\n",
    "   - SVM is a powerful algorithm that finds a hyperplane in the feature space to maximize the margin between different classes, making it effective in separating non-linearly separable data.\n",
    "\n",
    "3. **K-Nearest Neighbors (KNN)**:\n",
    "   - KNN is a simple yet effective classification algorithm that classifies data points based on the majority class among their k-nearest neighbors in the feature space."
   ]
  },
  {
   "cell_type": "code",
   "execution_count": 304,
   "metadata": {},
   "outputs": [],
   "source": [
    "# Define the Logistic Regression Classifier with a random state\n",
    "logreg_model = LogisticRegression(random_state=22)\n",
    "\n",
    "# Define the Support Vector Machine (SVM) Classifier with a random state\n",
    "svm_model = SVC(random_state=42)\n",
    "\n",
    "# Define the K-Nearest Neighbors (KNN) Classifier with a random state\n",
    "knn_model = KNeighborsClassifier()"
   ]
  },
  {
   "cell_type": "markdown",
   "metadata": {},
   "source": [
    "We will immediately use the pipeline to make it easier for us to use these three models."
   ]
  },
  {
   "cell_type": "markdown",
   "metadata": {},
   "source": [
    "### 7.1 Logistic Regression Pipeline"
   ]
  },
  {
   "cell_type": "code",
   "execution_count": 305,
   "metadata": {},
   "outputs": [
    {
     "name": "stdout",
     "output_type": "stream",
     "text": [
      "Pipeline steps :  [('columntransformer', ColumnTransformer(remainder='passthrough',\n",
      "                  transformers=[('robustscaler', RobustScaler(),\n",
      "                                 ['limit_balance', 'pay_amt_1', 'pay_amt_2',\n",
      "                                  'pay_amt_3', 'pay_amt_4', 'pay_amt_5',\n",
      "                                  'pay_amt_6'])])), ('logisticregression', LogisticRegression(random_state=22))]\n"
     ]
    }
   ],
   "source": [
    "# Create a pipeline with two steps: preprocessing and Logistic Regression\n",
    "logreg_pipeline = make_pipeline(preprocessor, LogisticRegression(random_state=22))\n",
    "\n",
    "# Displays the steps in the pipeline\n",
    "print('Pipeline steps : ', logreg_pipeline.steps)"
   ]
  },
  {
   "cell_type": "markdown",
   "metadata": {},
   "source": [
    "### 7.2 SVM Pipeline"
   ]
  },
  {
   "cell_type": "code",
   "execution_count": 306,
   "metadata": {},
   "outputs": [
    {
     "name": "stdout",
     "output_type": "stream",
     "text": [
      "Pipeline steps :  [('columntransformer', ColumnTransformer(remainder='passthrough',\n",
      "                  transformers=[('robustscaler', RobustScaler(),\n",
      "                                 ['limit_balance', 'pay_amt_1', 'pay_amt_2',\n",
      "                                  'pay_amt_3', 'pay_amt_4', 'pay_amt_5',\n",
      "                                  'pay_amt_6'])])), ('svc', SVC(random_state=22))]\n"
     ]
    }
   ],
   "source": [
    "# Create a pipeline with two steps: preprocessing and Support Vector Machine (SVM)\n",
    "svm_pipeline = make_pipeline(preprocessor, SVC(random_state=22))\n",
    "\n",
    "# Displays the steps in the pipeline\n",
    "print('Pipeline steps : ', svm_pipeline.steps)"
   ]
  },
  {
   "cell_type": "markdown",
   "metadata": {},
   "source": [
    "### 7.3 KKN (K-Nearest Neighbors) Pipelne"
   ]
  },
  {
   "cell_type": "code",
   "execution_count": 307,
   "metadata": {},
   "outputs": [
    {
     "name": "stdout",
     "output_type": "stream",
     "text": [
      "Pipeline steps :  [('columntransformer', ColumnTransformer(remainder='passthrough',\n",
      "                  transformers=[('robustscaler', RobustScaler(),\n",
      "                                 ['limit_balance', 'pay_amt_1', 'pay_amt_2',\n",
      "                                  'pay_amt_3', 'pay_amt_4', 'pay_amt_5',\n",
      "                                  'pay_amt_6'])])), ('kneighborsclassifier', KNeighborsClassifier())]\n"
     ]
    }
   ],
   "source": [
    "# Create a pipeline with two steps: preprocessing and K-Nearest Neighbors (KNN)\n",
    "knn_pipeline = make_pipeline(preprocessor, KNeighborsClassifier())\n",
    "\n",
    "# Displays the steps in the pipeline\n",
    "print('Pipeline steps : ', knn_pipeline.steps)"
   ]
  },
  {
   "cell_type": "markdown",
   "metadata": {},
   "source": [
    "## 8. Model Training\n",
    "\n",
    "At this stage we will carry out model training for the models we have chosen."
   ]
  },
  {
   "cell_type": "markdown",
   "metadata": {},
   "source": [
    "### 8.1 Logistic Regression Pipeline Training"
   ]
  },
  {
   "cell_type": "code",
   "execution_count": 308,
   "metadata": {},
   "outputs": [
    {
     "data": {
      "text/html": [
       "<style>#sk-container-id-26 {color: black;background-color: white;}#sk-container-id-26 pre{padding: 0;}#sk-container-id-26 div.sk-toggleable {background-color: white;}#sk-container-id-26 label.sk-toggleable__label {cursor: pointer;display: block;width: 100%;margin-bottom: 0;padding: 0.3em;box-sizing: border-box;text-align: center;}#sk-container-id-26 label.sk-toggleable__label-arrow:before {content: \"▸\";float: left;margin-right: 0.25em;color: #696969;}#sk-container-id-26 label.sk-toggleable__label-arrow:hover:before {color: black;}#sk-container-id-26 div.sk-estimator:hover label.sk-toggleable__label-arrow:before {color: black;}#sk-container-id-26 div.sk-toggleable__content {max-height: 0;max-width: 0;overflow: hidden;text-align: left;background-color: #f0f8ff;}#sk-container-id-26 div.sk-toggleable__content pre {margin: 0.2em;color: black;border-radius: 0.25em;background-color: #f0f8ff;}#sk-container-id-26 input.sk-toggleable__control:checked~div.sk-toggleable__content {max-height: 200px;max-width: 100%;overflow: auto;}#sk-container-id-26 input.sk-toggleable__control:checked~label.sk-toggleable__label-arrow:before {content: \"▾\";}#sk-container-id-26 div.sk-estimator input.sk-toggleable__control:checked~label.sk-toggleable__label {background-color: #d4ebff;}#sk-container-id-26 div.sk-label input.sk-toggleable__control:checked~label.sk-toggleable__label {background-color: #d4ebff;}#sk-container-id-26 input.sk-hidden--visually {border: 0;clip: rect(1px 1px 1px 1px);clip: rect(1px, 1px, 1px, 1px);height: 1px;margin: -1px;overflow: hidden;padding: 0;position: absolute;width: 1px;}#sk-container-id-26 div.sk-estimator {font-family: monospace;background-color: #f0f8ff;border: 1px dotted black;border-radius: 0.25em;box-sizing: border-box;margin-bottom: 0.5em;}#sk-container-id-26 div.sk-estimator:hover {background-color: #d4ebff;}#sk-container-id-26 div.sk-parallel-item::after {content: \"\";width: 100%;border-bottom: 1px solid gray;flex-grow: 1;}#sk-container-id-26 div.sk-label:hover label.sk-toggleable__label {background-color: #d4ebff;}#sk-container-id-26 div.sk-serial::before {content: \"\";position: absolute;border-left: 1px solid gray;box-sizing: border-box;top: 0;bottom: 0;left: 50%;z-index: 0;}#sk-container-id-26 div.sk-serial {display: flex;flex-direction: column;align-items: center;background-color: white;padding-right: 0.2em;padding-left: 0.2em;position: relative;}#sk-container-id-26 div.sk-item {position: relative;z-index: 1;}#sk-container-id-26 div.sk-parallel {display: flex;align-items: stretch;justify-content: center;background-color: white;position: relative;}#sk-container-id-26 div.sk-item::before, #sk-container-id-26 div.sk-parallel-item::before {content: \"\";position: absolute;border-left: 1px solid gray;box-sizing: border-box;top: 0;bottom: 0;left: 50%;z-index: -1;}#sk-container-id-26 div.sk-parallel-item {display: flex;flex-direction: column;z-index: 1;position: relative;background-color: white;}#sk-container-id-26 div.sk-parallel-item:first-child::after {align-self: flex-end;width: 50%;}#sk-container-id-26 div.sk-parallel-item:last-child::after {align-self: flex-start;width: 50%;}#sk-container-id-26 div.sk-parallel-item:only-child::after {width: 0;}#sk-container-id-26 div.sk-dashed-wrapped {border: 1px dashed gray;margin: 0 0.4em 0.5em 0.4em;box-sizing: border-box;padding-bottom: 0.4em;background-color: white;}#sk-container-id-26 div.sk-label label {font-family: monospace;font-weight: bold;display: inline-block;line-height: 1.2em;}#sk-container-id-26 div.sk-label-container {text-align: center;}#sk-container-id-26 div.sk-container {/* jupyter's `normalize.less` sets `[hidden] { display: none; }` but bootstrap.min.css set `[hidden] { display: none !important; }` so we also need the `!important` here to be able to override the default hidden behavior on the sphinx rendered scikit-learn.org. See: https://github.com/scikit-learn/scikit-learn/issues/21755 */display: inline-block !important;position: relative;}#sk-container-id-26 div.sk-text-repr-fallback {display: none;}</style><div id=\"sk-container-id-26\" class=\"sk-top-container\"><div class=\"sk-text-repr-fallback\"><pre>Pipeline(steps=[(&#x27;columntransformer&#x27;,\n",
       "                 ColumnTransformer(remainder=&#x27;passthrough&#x27;,\n",
       "                                   transformers=[(&#x27;robustscaler&#x27;,\n",
       "                                                  RobustScaler(),\n",
       "                                                  [&#x27;limit_balance&#x27;, &#x27;pay_amt_1&#x27;,\n",
       "                                                   &#x27;pay_amt_2&#x27;, &#x27;pay_amt_3&#x27;,\n",
       "                                                   &#x27;pay_amt_4&#x27;, &#x27;pay_amt_5&#x27;,\n",
       "                                                   &#x27;pay_amt_6&#x27;])])),\n",
       "                (&#x27;logisticregression&#x27;, LogisticRegression(random_state=22))])</pre><b>In a Jupyter environment, please rerun this cell to show the HTML representation or trust the notebook. <br />On GitHub, the HTML representation is unable to render, please try loading this page with nbviewer.org.</b></div><div class=\"sk-container\" hidden><div class=\"sk-item sk-dashed-wrapped\"><div class=\"sk-label-container\"><div class=\"sk-label sk-toggleable\"><input class=\"sk-toggleable__control sk-hidden--visually\" id=\"sk-estimator-id-126\" type=\"checkbox\" ><label for=\"sk-estimator-id-126\" class=\"sk-toggleable__label sk-toggleable__label-arrow\">Pipeline</label><div class=\"sk-toggleable__content\"><pre>Pipeline(steps=[(&#x27;columntransformer&#x27;,\n",
       "                 ColumnTransformer(remainder=&#x27;passthrough&#x27;,\n",
       "                                   transformers=[(&#x27;robustscaler&#x27;,\n",
       "                                                  RobustScaler(),\n",
       "                                                  [&#x27;limit_balance&#x27;, &#x27;pay_amt_1&#x27;,\n",
       "                                                   &#x27;pay_amt_2&#x27;, &#x27;pay_amt_3&#x27;,\n",
       "                                                   &#x27;pay_amt_4&#x27;, &#x27;pay_amt_5&#x27;,\n",
       "                                                   &#x27;pay_amt_6&#x27;])])),\n",
       "                (&#x27;logisticregression&#x27;, LogisticRegression(random_state=22))])</pre></div></div></div><div class=\"sk-serial\"><div class=\"sk-item sk-dashed-wrapped\"><div class=\"sk-label-container\"><div class=\"sk-label sk-toggleable\"><input class=\"sk-toggleable__control sk-hidden--visually\" id=\"sk-estimator-id-127\" type=\"checkbox\" ><label for=\"sk-estimator-id-127\" class=\"sk-toggleable__label sk-toggleable__label-arrow\">columntransformer: ColumnTransformer</label><div class=\"sk-toggleable__content\"><pre>ColumnTransformer(remainder=&#x27;passthrough&#x27;,\n",
       "                  transformers=[(&#x27;robustscaler&#x27;, RobustScaler(),\n",
       "                                 [&#x27;limit_balance&#x27;, &#x27;pay_amt_1&#x27;, &#x27;pay_amt_2&#x27;,\n",
       "                                  &#x27;pay_amt_3&#x27;, &#x27;pay_amt_4&#x27;, &#x27;pay_amt_5&#x27;,\n",
       "                                  &#x27;pay_amt_6&#x27;])])</pre></div></div></div><div class=\"sk-parallel\"><div class=\"sk-parallel-item\"><div class=\"sk-item\"><div class=\"sk-label-container\"><div class=\"sk-label sk-toggleable\"><input class=\"sk-toggleable__control sk-hidden--visually\" id=\"sk-estimator-id-128\" type=\"checkbox\" ><label for=\"sk-estimator-id-128\" class=\"sk-toggleable__label sk-toggleable__label-arrow\">robustscaler</label><div class=\"sk-toggleable__content\"><pre>[&#x27;limit_balance&#x27;, &#x27;pay_amt_1&#x27;, &#x27;pay_amt_2&#x27;, &#x27;pay_amt_3&#x27;, &#x27;pay_amt_4&#x27;, &#x27;pay_amt_5&#x27;, &#x27;pay_amt_6&#x27;]</pre></div></div></div><div class=\"sk-serial\"><div class=\"sk-item\"><div class=\"sk-estimator sk-toggleable\"><input class=\"sk-toggleable__control sk-hidden--visually\" id=\"sk-estimator-id-129\" type=\"checkbox\" ><label for=\"sk-estimator-id-129\" class=\"sk-toggleable__label sk-toggleable__label-arrow\">RobustScaler</label><div class=\"sk-toggleable__content\"><pre>RobustScaler()</pre></div></div></div></div></div></div><div class=\"sk-parallel-item\"><div class=\"sk-item\"><div class=\"sk-label-container\"><div class=\"sk-label sk-toggleable\"><input class=\"sk-toggleable__control sk-hidden--visually\" id=\"sk-estimator-id-130\" type=\"checkbox\" ><label for=\"sk-estimator-id-130\" class=\"sk-toggleable__label sk-toggleable__label-arrow\">remainder</label><div class=\"sk-toggleable__content\"><pre>[&#x27;education_level&#x27;, &#x27;pay_1&#x27;, &#x27;pay_2&#x27;, &#x27;pay_3&#x27;, &#x27;pay_4&#x27;, &#x27;pay_5&#x27;, &#x27;pay_6&#x27;]</pre></div></div></div><div class=\"sk-serial\"><div class=\"sk-item\"><div class=\"sk-estimator sk-toggleable\"><input class=\"sk-toggleable__control sk-hidden--visually\" id=\"sk-estimator-id-131\" type=\"checkbox\" ><label for=\"sk-estimator-id-131\" class=\"sk-toggleable__label sk-toggleable__label-arrow\">passthrough</label><div class=\"sk-toggleable__content\"><pre>passthrough</pre></div></div></div></div></div></div></div></div><div class=\"sk-item\"><div class=\"sk-estimator sk-toggleable\"><input class=\"sk-toggleable__control sk-hidden--visually\" id=\"sk-estimator-id-132\" type=\"checkbox\" ><label for=\"sk-estimator-id-132\" class=\"sk-toggleable__label sk-toggleable__label-arrow\">LogisticRegression</label><div class=\"sk-toggleable__content\"><pre>LogisticRegression(random_state=22)</pre></div></div></div></div></div></div></div>"
      ],
      "text/plain": [
       "Pipeline(steps=[('columntransformer',\n",
       "                 ColumnTransformer(remainder='passthrough',\n",
       "                                   transformers=[('robustscaler',\n",
       "                                                  RobustScaler(),\n",
       "                                                  ['limit_balance', 'pay_amt_1',\n",
       "                                                   'pay_amt_2', 'pay_amt_3',\n",
       "                                                   'pay_amt_4', 'pay_amt_5',\n",
       "                                                   'pay_amt_6'])])),\n",
       "                ('logisticregression', LogisticRegression(random_state=22))])"
      ]
     },
     "execution_count": 308,
     "metadata": {},
     "output_type": "execute_result"
    }
   ],
   "source": [
    "# Involves model training in the Logistic Regression pipeline\n",
    "logreg_pipeline.fit(X_train, y_train)"
   ]
  },
  {
   "cell_type": "markdown",
   "metadata": {},
   "source": [
    "### 8.2 SVM Pipeline Training"
   ]
  },
  {
   "cell_type": "code",
   "execution_count": 309,
   "metadata": {},
   "outputs": [
    {
     "data": {
      "text/html": [
       "<style>#sk-container-id-27 {color: black;background-color: white;}#sk-container-id-27 pre{padding: 0;}#sk-container-id-27 div.sk-toggleable {background-color: white;}#sk-container-id-27 label.sk-toggleable__label {cursor: pointer;display: block;width: 100%;margin-bottom: 0;padding: 0.3em;box-sizing: border-box;text-align: center;}#sk-container-id-27 label.sk-toggleable__label-arrow:before {content: \"▸\";float: left;margin-right: 0.25em;color: #696969;}#sk-container-id-27 label.sk-toggleable__label-arrow:hover:before {color: black;}#sk-container-id-27 div.sk-estimator:hover label.sk-toggleable__label-arrow:before {color: black;}#sk-container-id-27 div.sk-toggleable__content {max-height: 0;max-width: 0;overflow: hidden;text-align: left;background-color: #f0f8ff;}#sk-container-id-27 div.sk-toggleable__content pre {margin: 0.2em;color: black;border-radius: 0.25em;background-color: #f0f8ff;}#sk-container-id-27 input.sk-toggleable__control:checked~div.sk-toggleable__content {max-height: 200px;max-width: 100%;overflow: auto;}#sk-container-id-27 input.sk-toggleable__control:checked~label.sk-toggleable__label-arrow:before {content: \"▾\";}#sk-container-id-27 div.sk-estimator input.sk-toggleable__control:checked~label.sk-toggleable__label {background-color: #d4ebff;}#sk-container-id-27 div.sk-label input.sk-toggleable__control:checked~label.sk-toggleable__label {background-color: #d4ebff;}#sk-container-id-27 input.sk-hidden--visually {border: 0;clip: rect(1px 1px 1px 1px);clip: rect(1px, 1px, 1px, 1px);height: 1px;margin: -1px;overflow: hidden;padding: 0;position: absolute;width: 1px;}#sk-container-id-27 div.sk-estimator {font-family: monospace;background-color: #f0f8ff;border: 1px dotted black;border-radius: 0.25em;box-sizing: border-box;margin-bottom: 0.5em;}#sk-container-id-27 div.sk-estimator:hover {background-color: #d4ebff;}#sk-container-id-27 div.sk-parallel-item::after {content: \"\";width: 100%;border-bottom: 1px solid gray;flex-grow: 1;}#sk-container-id-27 div.sk-label:hover label.sk-toggleable__label {background-color: #d4ebff;}#sk-container-id-27 div.sk-serial::before {content: \"\";position: absolute;border-left: 1px solid gray;box-sizing: border-box;top: 0;bottom: 0;left: 50%;z-index: 0;}#sk-container-id-27 div.sk-serial {display: flex;flex-direction: column;align-items: center;background-color: white;padding-right: 0.2em;padding-left: 0.2em;position: relative;}#sk-container-id-27 div.sk-item {position: relative;z-index: 1;}#sk-container-id-27 div.sk-parallel {display: flex;align-items: stretch;justify-content: center;background-color: white;position: relative;}#sk-container-id-27 div.sk-item::before, #sk-container-id-27 div.sk-parallel-item::before {content: \"\";position: absolute;border-left: 1px solid gray;box-sizing: border-box;top: 0;bottom: 0;left: 50%;z-index: -1;}#sk-container-id-27 div.sk-parallel-item {display: flex;flex-direction: column;z-index: 1;position: relative;background-color: white;}#sk-container-id-27 div.sk-parallel-item:first-child::after {align-self: flex-end;width: 50%;}#sk-container-id-27 div.sk-parallel-item:last-child::after {align-self: flex-start;width: 50%;}#sk-container-id-27 div.sk-parallel-item:only-child::after {width: 0;}#sk-container-id-27 div.sk-dashed-wrapped {border: 1px dashed gray;margin: 0 0.4em 0.5em 0.4em;box-sizing: border-box;padding-bottom: 0.4em;background-color: white;}#sk-container-id-27 div.sk-label label {font-family: monospace;font-weight: bold;display: inline-block;line-height: 1.2em;}#sk-container-id-27 div.sk-label-container {text-align: center;}#sk-container-id-27 div.sk-container {/* jupyter's `normalize.less` sets `[hidden] { display: none; }` but bootstrap.min.css set `[hidden] { display: none !important; }` so we also need the `!important` here to be able to override the default hidden behavior on the sphinx rendered scikit-learn.org. See: https://github.com/scikit-learn/scikit-learn/issues/21755 */display: inline-block !important;position: relative;}#sk-container-id-27 div.sk-text-repr-fallback {display: none;}</style><div id=\"sk-container-id-27\" class=\"sk-top-container\"><div class=\"sk-text-repr-fallback\"><pre>Pipeline(steps=[(&#x27;columntransformer&#x27;,\n",
       "                 ColumnTransformer(remainder=&#x27;passthrough&#x27;,\n",
       "                                   transformers=[(&#x27;robustscaler&#x27;,\n",
       "                                                  RobustScaler(),\n",
       "                                                  [&#x27;limit_balance&#x27;, &#x27;pay_amt_1&#x27;,\n",
       "                                                   &#x27;pay_amt_2&#x27;, &#x27;pay_amt_3&#x27;,\n",
       "                                                   &#x27;pay_amt_4&#x27;, &#x27;pay_amt_5&#x27;,\n",
       "                                                   &#x27;pay_amt_6&#x27;])])),\n",
       "                (&#x27;svc&#x27;, SVC(random_state=22))])</pre><b>In a Jupyter environment, please rerun this cell to show the HTML representation or trust the notebook. <br />On GitHub, the HTML representation is unable to render, please try loading this page with nbviewer.org.</b></div><div class=\"sk-container\" hidden><div class=\"sk-item sk-dashed-wrapped\"><div class=\"sk-label-container\"><div class=\"sk-label sk-toggleable\"><input class=\"sk-toggleable__control sk-hidden--visually\" id=\"sk-estimator-id-133\" type=\"checkbox\" ><label for=\"sk-estimator-id-133\" class=\"sk-toggleable__label sk-toggleable__label-arrow\">Pipeline</label><div class=\"sk-toggleable__content\"><pre>Pipeline(steps=[(&#x27;columntransformer&#x27;,\n",
       "                 ColumnTransformer(remainder=&#x27;passthrough&#x27;,\n",
       "                                   transformers=[(&#x27;robustscaler&#x27;,\n",
       "                                                  RobustScaler(),\n",
       "                                                  [&#x27;limit_balance&#x27;, &#x27;pay_amt_1&#x27;,\n",
       "                                                   &#x27;pay_amt_2&#x27;, &#x27;pay_amt_3&#x27;,\n",
       "                                                   &#x27;pay_amt_4&#x27;, &#x27;pay_amt_5&#x27;,\n",
       "                                                   &#x27;pay_amt_6&#x27;])])),\n",
       "                (&#x27;svc&#x27;, SVC(random_state=22))])</pre></div></div></div><div class=\"sk-serial\"><div class=\"sk-item sk-dashed-wrapped\"><div class=\"sk-label-container\"><div class=\"sk-label sk-toggleable\"><input class=\"sk-toggleable__control sk-hidden--visually\" id=\"sk-estimator-id-134\" type=\"checkbox\" ><label for=\"sk-estimator-id-134\" class=\"sk-toggleable__label sk-toggleable__label-arrow\">columntransformer: ColumnTransformer</label><div class=\"sk-toggleable__content\"><pre>ColumnTransformer(remainder=&#x27;passthrough&#x27;,\n",
       "                  transformers=[(&#x27;robustscaler&#x27;, RobustScaler(),\n",
       "                                 [&#x27;limit_balance&#x27;, &#x27;pay_amt_1&#x27;, &#x27;pay_amt_2&#x27;,\n",
       "                                  &#x27;pay_amt_3&#x27;, &#x27;pay_amt_4&#x27;, &#x27;pay_amt_5&#x27;,\n",
       "                                  &#x27;pay_amt_6&#x27;])])</pre></div></div></div><div class=\"sk-parallel\"><div class=\"sk-parallel-item\"><div class=\"sk-item\"><div class=\"sk-label-container\"><div class=\"sk-label sk-toggleable\"><input class=\"sk-toggleable__control sk-hidden--visually\" id=\"sk-estimator-id-135\" type=\"checkbox\" ><label for=\"sk-estimator-id-135\" class=\"sk-toggleable__label sk-toggleable__label-arrow\">robustscaler</label><div class=\"sk-toggleable__content\"><pre>[&#x27;limit_balance&#x27;, &#x27;pay_amt_1&#x27;, &#x27;pay_amt_2&#x27;, &#x27;pay_amt_3&#x27;, &#x27;pay_amt_4&#x27;, &#x27;pay_amt_5&#x27;, &#x27;pay_amt_6&#x27;]</pre></div></div></div><div class=\"sk-serial\"><div class=\"sk-item\"><div class=\"sk-estimator sk-toggleable\"><input class=\"sk-toggleable__control sk-hidden--visually\" id=\"sk-estimator-id-136\" type=\"checkbox\" ><label for=\"sk-estimator-id-136\" class=\"sk-toggleable__label sk-toggleable__label-arrow\">RobustScaler</label><div class=\"sk-toggleable__content\"><pre>RobustScaler()</pre></div></div></div></div></div></div><div class=\"sk-parallel-item\"><div class=\"sk-item\"><div class=\"sk-label-container\"><div class=\"sk-label sk-toggleable\"><input class=\"sk-toggleable__control sk-hidden--visually\" id=\"sk-estimator-id-137\" type=\"checkbox\" ><label for=\"sk-estimator-id-137\" class=\"sk-toggleable__label sk-toggleable__label-arrow\">remainder</label><div class=\"sk-toggleable__content\"><pre>[&#x27;education_level&#x27;, &#x27;pay_1&#x27;, &#x27;pay_2&#x27;, &#x27;pay_3&#x27;, &#x27;pay_4&#x27;, &#x27;pay_5&#x27;, &#x27;pay_6&#x27;]</pre></div></div></div><div class=\"sk-serial\"><div class=\"sk-item\"><div class=\"sk-estimator sk-toggleable\"><input class=\"sk-toggleable__control sk-hidden--visually\" id=\"sk-estimator-id-138\" type=\"checkbox\" ><label for=\"sk-estimator-id-138\" class=\"sk-toggleable__label sk-toggleable__label-arrow\">passthrough</label><div class=\"sk-toggleable__content\"><pre>passthrough</pre></div></div></div></div></div></div></div></div><div class=\"sk-item\"><div class=\"sk-estimator sk-toggleable\"><input class=\"sk-toggleable__control sk-hidden--visually\" id=\"sk-estimator-id-139\" type=\"checkbox\" ><label for=\"sk-estimator-id-139\" class=\"sk-toggleable__label sk-toggleable__label-arrow\">SVC</label><div class=\"sk-toggleable__content\"><pre>SVC(random_state=22)</pre></div></div></div></div></div></div></div>"
      ],
      "text/plain": [
       "Pipeline(steps=[('columntransformer',\n",
       "                 ColumnTransformer(remainder='passthrough',\n",
       "                                   transformers=[('robustscaler',\n",
       "                                                  RobustScaler(),\n",
       "                                                  ['limit_balance', 'pay_amt_1',\n",
       "                                                   'pay_amt_2', 'pay_amt_3',\n",
       "                                                   'pay_amt_4', 'pay_amt_5',\n",
       "                                                   'pay_amt_6'])])),\n",
       "                ('svc', SVC(random_state=22))])"
      ]
     },
     "execution_count": 309,
     "metadata": {},
     "output_type": "execute_result"
    }
   ],
   "source": [
    "# Melibatkan model training pada pipeline Support Vector Machine (SVM)\n",
    "svm_pipeline.fit(X_train, y_train)"
   ]
  },
  {
   "cell_type": "markdown",
   "metadata": {},
   "source": [
    "### 8.3 KNN Pipeline Training"
   ]
  },
  {
   "cell_type": "code",
   "execution_count": 310,
   "metadata": {},
   "outputs": [
    {
     "data": {
      "text/html": [
       "<style>#sk-container-id-28 {color: black;background-color: white;}#sk-container-id-28 pre{padding: 0;}#sk-container-id-28 div.sk-toggleable {background-color: white;}#sk-container-id-28 label.sk-toggleable__label {cursor: pointer;display: block;width: 100%;margin-bottom: 0;padding: 0.3em;box-sizing: border-box;text-align: center;}#sk-container-id-28 label.sk-toggleable__label-arrow:before {content: \"▸\";float: left;margin-right: 0.25em;color: #696969;}#sk-container-id-28 label.sk-toggleable__label-arrow:hover:before {color: black;}#sk-container-id-28 div.sk-estimator:hover label.sk-toggleable__label-arrow:before {color: black;}#sk-container-id-28 div.sk-toggleable__content {max-height: 0;max-width: 0;overflow: hidden;text-align: left;background-color: #f0f8ff;}#sk-container-id-28 div.sk-toggleable__content pre {margin: 0.2em;color: black;border-radius: 0.25em;background-color: #f0f8ff;}#sk-container-id-28 input.sk-toggleable__control:checked~div.sk-toggleable__content {max-height: 200px;max-width: 100%;overflow: auto;}#sk-container-id-28 input.sk-toggleable__control:checked~label.sk-toggleable__label-arrow:before {content: \"▾\";}#sk-container-id-28 div.sk-estimator input.sk-toggleable__control:checked~label.sk-toggleable__label {background-color: #d4ebff;}#sk-container-id-28 div.sk-label input.sk-toggleable__control:checked~label.sk-toggleable__label {background-color: #d4ebff;}#sk-container-id-28 input.sk-hidden--visually {border: 0;clip: rect(1px 1px 1px 1px);clip: rect(1px, 1px, 1px, 1px);height: 1px;margin: -1px;overflow: hidden;padding: 0;position: absolute;width: 1px;}#sk-container-id-28 div.sk-estimator {font-family: monospace;background-color: #f0f8ff;border: 1px dotted black;border-radius: 0.25em;box-sizing: border-box;margin-bottom: 0.5em;}#sk-container-id-28 div.sk-estimator:hover {background-color: #d4ebff;}#sk-container-id-28 div.sk-parallel-item::after {content: \"\";width: 100%;border-bottom: 1px solid gray;flex-grow: 1;}#sk-container-id-28 div.sk-label:hover label.sk-toggleable__label {background-color: #d4ebff;}#sk-container-id-28 div.sk-serial::before {content: \"\";position: absolute;border-left: 1px solid gray;box-sizing: border-box;top: 0;bottom: 0;left: 50%;z-index: 0;}#sk-container-id-28 div.sk-serial {display: flex;flex-direction: column;align-items: center;background-color: white;padding-right: 0.2em;padding-left: 0.2em;position: relative;}#sk-container-id-28 div.sk-item {position: relative;z-index: 1;}#sk-container-id-28 div.sk-parallel {display: flex;align-items: stretch;justify-content: center;background-color: white;position: relative;}#sk-container-id-28 div.sk-item::before, #sk-container-id-28 div.sk-parallel-item::before {content: \"\";position: absolute;border-left: 1px solid gray;box-sizing: border-box;top: 0;bottom: 0;left: 50%;z-index: -1;}#sk-container-id-28 div.sk-parallel-item {display: flex;flex-direction: column;z-index: 1;position: relative;background-color: white;}#sk-container-id-28 div.sk-parallel-item:first-child::after {align-self: flex-end;width: 50%;}#sk-container-id-28 div.sk-parallel-item:last-child::after {align-self: flex-start;width: 50%;}#sk-container-id-28 div.sk-parallel-item:only-child::after {width: 0;}#sk-container-id-28 div.sk-dashed-wrapped {border: 1px dashed gray;margin: 0 0.4em 0.5em 0.4em;box-sizing: border-box;padding-bottom: 0.4em;background-color: white;}#sk-container-id-28 div.sk-label label {font-family: monospace;font-weight: bold;display: inline-block;line-height: 1.2em;}#sk-container-id-28 div.sk-label-container {text-align: center;}#sk-container-id-28 div.sk-container {/* jupyter's `normalize.less` sets `[hidden] { display: none; }` but bootstrap.min.css set `[hidden] { display: none !important; }` so we also need the `!important` here to be able to override the default hidden behavior on the sphinx rendered scikit-learn.org. See: https://github.com/scikit-learn/scikit-learn/issues/21755 */display: inline-block !important;position: relative;}#sk-container-id-28 div.sk-text-repr-fallback {display: none;}</style><div id=\"sk-container-id-28\" class=\"sk-top-container\"><div class=\"sk-text-repr-fallback\"><pre>Pipeline(steps=[(&#x27;columntransformer&#x27;,\n",
       "                 ColumnTransformer(remainder=&#x27;passthrough&#x27;,\n",
       "                                   transformers=[(&#x27;robustscaler&#x27;,\n",
       "                                                  RobustScaler(),\n",
       "                                                  [&#x27;limit_balance&#x27;, &#x27;pay_amt_1&#x27;,\n",
       "                                                   &#x27;pay_amt_2&#x27;, &#x27;pay_amt_3&#x27;,\n",
       "                                                   &#x27;pay_amt_4&#x27;, &#x27;pay_amt_5&#x27;,\n",
       "                                                   &#x27;pay_amt_6&#x27;])])),\n",
       "                (&#x27;kneighborsclassifier&#x27;, KNeighborsClassifier())])</pre><b>In a Jupyter environment, please rerun this cell to show the HTML representation or trust the notebook. <br />On GitHub, the HTML representation is unable to render, please try loading this page with nbviewer.org.</b></div><div class=\"sk-container\" hidden><div class=\"sk-item sk-dashed-wrapped\"><div class=\"sk-label-container\"><div class=\"sk-label sk-toggleable\"><input class=\"sk-toggleable__control sk-hidden--visually\" id=\"sk-estimator-id-140\" type=\"checkbox\" ><label for=\"sk-estimator-id-140\" class=\"sk-toggleable__label sk-toggleable__label-arrow\">Pipeline</label><div class=\"sk-toggleable__content\"><pre>Pipeline(steps=[(&#x27;columntransformer&#x27;,\n",
       "                 ColumnTransformer(remainder=&#x27;passthrough&#x27;,\n",
       "                                   transformers=[(&#x27;robustscaler&#x27;,\n",
       "                                                  RobustScaler(),\n",
       "                                                  [&#x27;limit_balance&#x27;, &#x27;pay_amt_1&#x27;,\n",
       "                                                   &#x27;pay_amt_2&#x27;, &#x27;pay_amt_3&#x27;,\n",
       "                                                   &#x27;pay_amt_4&#x27;, &#x27;pay_amt_5&#x27;,\n",
       "                                                   &#x27;pay_amt_6&#x27;])])),\n",
       "                (&#x27;kneighborsclassifier&#x27;, KNeighborsClassifier())])</pre></div></div></div><div class=\"sk-serial\"><div class=\"sk-item sk-dashed-wrapped\"><div class=\"sk-label-container\"><div class=\"sk-label sk-toggleable\"><input class=\"sk-toggleable__control sk-hidden--visually\" id=\"sk-estimator-id-141\" type=\"checkbox\" ><label for=\"sk-estimator-id-141\" class=\"sk-toggleable__label sk-toggleable__label-arrow\">columntransformer: ColumnTransformer</label><div class=\"sk-toggleable__content\"><pre>ColumnTransformer(remainder=&#x27;passthrough&#x27;,\n",
       "                  transformers=[(&#x27;robustscaler&#x27;, RobustScaler(),\n",
       "                                 [&#x27;limit_balance&#x27;, &#x27;pay_amt_1&#x27;, &#x27;pay_amt_2&#x27;,\n",
       "                                  &#x27;pay_amt_3&#x27;, &#x27;pay_amt_4&#x27;, &#x27;pay_amt_5&#x27;,\n",
       "                                  &#x27;pay_amt_6&#x27;])])</pre></div></div></div><div class=\"sk-parallel\"><div class=\"sk-parallel-item\"><div class=\"sk-item\"><div class=\"sk-label-container\"><div class=\"sk-label sk-toggleable\"><input class=\"sk-toggleable__control sk-hidden--visually\" id=\"sk-estimator-id-142\" type=\"checkbox\" ><label for=\"sk-estimator-id-142\" class=\"sk-toggleable__label sk-toggleable__label-arrow\">robustscaler</label><div class=\"sk-toggleable__content\"><pre>[&#x27;limit_balance&#x27;, &#x27;pay_amt_1&#x27;, &#x27;pay_amt_2&#x27;, &#x27;pay_amt_3&#x27;, &#x27;pay_amt_4&#x27;, &#x27;pay_amt_5&#x27;, &#x27;pay_amt_6&#x27;]</pre></div></div></div><div class=\"sk-serial\"><div class=\"sk-item\"><div class=\"sk-estimator sk-toggleable\"><input class=\"sk-toggleable__control sk-hidden--visually\" id=\"sk-estimator-id-143\" type=\"checkbox\" ><label for=\"sk-estimator-id-143\" class=\"sk-toggleable__label sk-toggleable__label-arrow\">RobustScaler</label><div class=\"sk-toggleable__content\"><pre>RobustScaler()</pre></div></div></div></div></div></div><div class=\"sk-parallel-item\"><div class=\"sk-item\"><div class=\"sk-label-container\"><div class=\"sk-label sk-toggleable\"><input class=\"sk-toggleable__control sk-hidden--visually\" id=\"sk-estimator-id-144\" type=\"checkbox\" ><label for=\"sk-estimator-id-144\" class=\"sk-toggleable__label sk-toggleable__label-arrow\">remainder</label><div class=\"sk-toggleable__content\"><pre>[&#x27;education_level&#x27;, &#x27;pay_1&#x27;, &#x27;pay_2&#x27;, &#x27;pay_3&#x27;, &#x27;pay_4&#x27;, &#x27;pay_5&#x27;, &#x27;pay_6&#x27;]</pre></div></div></div><div class=\"sk-serial\"><div class=\"sk-item\"><div class=\"sk-estimator sk-toggleable\"><input class=\"sk-toggleable__control sk-hidden--visually\" id=\"sk-estimator-id-145\" type=\"checkbox\" ><label for=\"sk-estimator-id-145\" class=\"sk-toggleable__label sk-toggleable__label-arrow\">passthrough</label><div class=\"sk-toggleable__content\"><pre>passthrough</pre></div></div></div></div></div></div></div></div><div class=\"sk-item\"><div class=\"sk-estimator sk-toggleable\"><input class=\"sk-toggleable__control sk-hidden--visually\" id=\"sk-estimator-id-146\" type=\"checkbox\" ><label for=\"sk-estimator-id-146\" class=\"sk-toggleable__label sk-toggleable__label-arrow\">KNeighborsClassifier</label><div class=\"sk-toggleable__content\"><pre>KNeighborsClassifier()</pre></div></div></div></div></div></div></div>"
      ],
      "text/plain": [
       "Pipeline(steps=[('columntransformer',\n",
       "                 ColumnTransformer(remainder='passthrough',\n",
       "                                   transformers=[('robustscaler',\n",
       "                                                  RobustScaler(),\n",
       "                                                  ['limit_balance', 'pay_amt_1',\n",
       "                                                   'pay_amt_2', 'pay_amt_3',\n",
       "                                                   'pay_amt_4', 'pay_amt_5',\n",
       "                                                   'pay_amt_6'])])),\n",
       "                ('kneighborsclassifier', KNeighborsClassifier())])"
      ]
     },
     "execution_count": 310,
     "metadata": {},
     "output_type": "execute_result"
    }
   ],
   "source": [
    "# Melibatkan model training pada pipeline K-Nearest Neighbors (KNN)\n",
    "knn_pipeline.fit(X_train, y_train)"
   ]
  },
  {
   "cell_type": "markdown",
   "metadata": {},
   "source": [
    "## 9. Model Evaluation\n",
    "\n",
    "To evaluate a classification model, it can be done by looking at the accuracy, precision, recall or f1 score values.\n",
    "\n",
    "1. Accuracy \n",
    "    - Accuracy is a value that shows how much of the data is predicted correctly by the model. The higher the accuracy value (closer to 100%), the better the model formed. However, accuracy is not suitable for imbalanced data, because it will produce wrong interpretations.\n",
    "2. Precision \n",
    "    - Precision shows the percentage of data that is predicted correctly from all positive data. Precision is suitable for use when you want to minimize False Positives (data that is predicted to be positive, but is actually negative).\n",
    "3. Recall \n",
    "    - Recall is a value that shows how much of the predicted data is true positive out of the total data that is true positive. Recall is suitable for use when you want to minimize False Negatives (data that is predicted to be negative, but is actually positive).\n",
    "4. F1-Score \n",
    "    - F1-Score is the harmonic mean of precision and recall. A high F1-Score indicates that the classification model has good precision and recall.\n",
    "\n",
    "To predict whether someone will default or not, you can look at the recall/f1-score value in the 'default' class (1)."
   ]
  },
  {
   "cell_type": "markdown",
   "metadata": {},
   "source": [
    "### 9.1 Pipeline Base Model Evaluation"
   ]
  },
  {
   "cell_type": "markdown",
   "metadata": {},
   "source": [
    "#### 9.1.1. Logistic Regression Pipeline Base Model Eval"
   ]
  },
  {
   "cell_type": "code",
   "execution_count": 311,
   "metadata": {},
   "outputs": [
    {
     "name": "stdout",
     "output_type": "stream",
     "text": [
      "F1 Score - Train Set  :  0.39065108514190316 \n",
      "\n",
      "Classification Report : \n",
      "               precision    recall  f1-score   support\n",
      "\n",
      "           0       0.83      0.97      0.90      1635\n",
      "           1       0.73      0.27      0.39       439\n",
      "\n",
      "    accuracy                           0.82      2074\n",
      "   macro avg       0.78      0.62      0.64      2074\n",
      "weighted avg       0.81      0.82      0.79      2074\n",
      " \n",
      "\n",
      "F1 Score - Test Set  :  0.4326241134751773 \n",
      "\n",
      "Classification Report : \n",
      "               precision    recall  f1-score   support\n",
      "\n",
      "           0       0.83      0.96      0.89       694\n",
      "           1       0.71      0.31      0.43       196\n",
      "\n",
      "    accuracy                           0.82       890\n",
      "   macro avg       0.77      0.64      0.66       890\n",
      "weighted avg       0.81      0.82      0.79       890\n",
      " \n",
      "\n"
     ]
    }
   ],
   "source": [
    "# Check Performance Model against Train-Set and Test-Set\n",
    "# Melakukan prediksi pada dataset pelatihan menggunakan model Logistic Regression\n",
    "logreg_pipeline_predict_train = logreg_pipeline.predict(X_train)\n",
    "\n",
    "# Melakukan prediksi pada dataset uji menggunakan model Logistic Regression\n",
    "logreg_pipeline_predict_test = logreg_pipeline.predict(X_test)\n",
    "\n",
    "# Menampilkan F1 Score pada dataset pelatihan\n",
    "print('F1 Score - Train Set  : ', f1_score(y_train, logreg_pipeline_predict_train), '\\n')\n",
    "\n",
    "# Menampilkan Classification Report pada dataset pelatihan\n",
    "print('Classification Report : \\n', classification_report(y_train, logreg_pipeline_predict_train), '\\n')\n",
    "\n",
    "# Menampilkan F1 Score pada dataset uji\n",
    "print('F1 Score - Test Set  : ', f1_score(y_test, logreg_pipeline_predict_test), '\\n')\n",
    "\n",
    "# Menampilkan Classification Report pada dataset uji\n",
    "print('Classification Report : \\n', classification_report(y_test, logreg_pipeline_predict_test), '\\n')"
   ]
  },
  {
   "cell_type": "markdown",
   "metadata": {},
   "source": [
    "Based on the results of the model evaluation using Logistic Regression above, we can conclude that:\n",
    "\n",
    "1. **Accuracy Level**\n",
    "    - The model has a high level of accuracy in predicting class 0 (no payment default) in both train and test datasets, but is less accurate in predicting class 1 (payment failure).\n",
    "\n",
    "2. **Recall**\n",
    "    - The model has low recall for class 1 (payment default), indicating a tendency to miss many default cases.\n",
    "\n",
    "3. **F1-Score**\n",
    "    - The F1 score for class 1 (default) is also relatively low in both train and test datasets, indicating that the balance between precision and recall for this class is not optimal.\n",
    "\n",
    "4. **Model Consistency**\n",
    "    - The model shows consistent performance between train and test data, indicated by small differences between evaluations on both datasets."
   ]
  },
  {
   "cell_type": "markdown",
   "metadata": {},
   "source": [
    "#### 9.1.2. SVM Pipeline Base Model Evaluation"
   ]
  },
  {
   "cell_type": "code",
   "execution_count": 312,
   "metadata": {},
   "outputs": [
    {
     "name": "stdout",
     "output_type": "stream",
     "text": [
      "F1 Score - Train Set  :  0.5272459499263623 \n",
      "\n",
      "Classification Report : \n",
      "               precision    recall  f1-score   support\n",
      "\n",
      "           0       0.86      0.96      0.91      1635\n",
      "           1       0.75      0.41      0.53       439\n",
      "\n",
      "    accuracy                           0.85      2074\n",
      "   macro avg       0.80      0.69      0.72      2074\n",
      "weighted avg       0.83      0.85      0.83      2074\n",
      " \n",
      "\n",
      "F1 Score - Test Set  :  0.49829351535836175 \n",
      "\n",
      "Classification Report : \n",
      "               precision    recall  f1-score   support\n",
      "\n",
      "           0       0.84      0.97      0.90       694\n",
      "           1       0.75      0.37      0.50       196\n",
      "\n",
      "    accuracy                           0.83       890\n",
      "   macro avg       0.80      0.67      0.70       890\n",
      "weighted avg       0.82      0.83      0.81       890\n",
      " \n",
      "\n"
     ]
    }
   ],
   "source": [
    "# Check Performance Model against Train-Set and Test-Set\n",
    "\n",
    "# Melakukan prediksi pada dataset pelatihan menggunakan model Support Vector Machine (SVM)\n",
    "svm_pipeline_predict_train = svm_pipeline.predict(X_train)\n",
    "\n",
    "# Melakukan prediksi pada dataset uji menggunakan model Support Vector Machine (SVM)\n",
    "svm_pipeline_predict_test = svm_pipeline.predict(X_test)\n",
    "\n",
    "# Menampilkan F1 Score pada dataset pelatihan\n",
    "print('F1 Score - Train Set  : ', f1_score(y_train, svm_pipeline_predict_train), '\\n')\n",
    "\n",
    "# Menampilkan Classification Report pada dataset pelatihan\n",
    "print('Classification Report : \\n', classification_report(y_train, svm_pipeline_predict_train), '\\n')\n",
    "\n",
    "# Menampilkan F1 Score pada dataset uji\n",
    "print('F1 Score - Test Set  : ', f1_score(y_test, svm_pipeline_predict_test), '\\n')\n",
    "\n",
    "# Menampilkan Classification Report pada dataset uji\n",
    "print('Classification Report : \\n', classification_report(y_test, svm_pipeline_predict_test), '\\n')"
   ]
  },
  {
   "cell_type": "markdown",
   "metadata": {},
   "source": [
    "Based on the results of the model evaluation using SVM above, we can conclude that:\n",
    "\n",
    "1. **F1-Score**\n",
    "    - The F1-Score for train data is 0.53, while for test data it is 0.50. Even though the F1-Score on the train data is slightly higher, both show that the model has a fairly good balance between precision and recall in predicting both classes.\n",
    "2. **Recall**\n",
    "    - Recall for class 1 in the train data is 0.41, while in the test data it is 0.37. Although the recall rate for default cases is not very high, the model tends not to miss a large number of default cases.\n",
    "3. **Accuracy Level**\n",
    "    - The overall accuracy level on the train data is 0.85, while on the test data it is 0.83. Even though there was a slight decrease in performance on the test data, the model was still able to provide predictions with a relatively high level of accuracy.\n",
    "4. **Model Consistency**\n",
    "    - There is consistency in model performance between train and test data, with insignificant differences between evaluations on both datasets."
   ]
  },
  {
   "cell_type": "markdown",
   "metadata": {},
   "source": [
    "#### 9.1.3. KNN Pipeline Base Model Evaluation"
   ]
  },
  {
   "cell_type": "code",
   "execution_count": 313,
   "metadata": {},
   "outputs": [
    {
     "name": "stdout",
     "output_type": "stream",
     "text": [
      "F1 Score - Train Set  :  0.602510460251046 \n",
      "\n",
      "Classification Report : \n",
      "               precision    recall  f1-score   support\n",
      "\n",
      "           0       0.88      0.96      0.92      1635\n",
      "           1       0.78      0.49      0.60       439\n",
      "\n",
      "    accuracy                           0.86      2074\n",
      "   macro avg       0.83      0.73      0.76      2074\n",
      "weighted avg       0.85      0.86      0.85      2074\n",
      " \n",
      "\n",
      "F1 Score - Test Set  :  0.4634920634920635 \n",
      "\n",
      "Classification Report : \n",
      "               precision    recall  f1-score   support\n",
      "\n",
      "           0       0.84      0.93      0.88       694\n",
      "           1       0.61      0.37      0.46       196\n",
      "\n",
      "    accuracy                           0.81       890\n",
      "   macro avg       0.73      0.65      0.67       890\n",
      "weighted avg       0.79      0.81      0.79       890\n",
      " \n",
      "\n"
     ]
    }
   ],
   "source": [
    "# Check Performance Model against Train-Set and Test-Set\n",
    "\n",
    "# Melakukan prediksi pada dataset pelatihan menggunakan model K-Nearest Neighbors (KNN)\n",
    "knn_pipeline_predict_train = knn_pipeline.predict(X_train)\n",
    "\n",
    "# Melakukan prediksi pada dataset uji menggunakan model K-Nearest Neighbors (KNN)\n",
    "knn_pipeline_predict_test = knn_pipeline.predict(X_test)\n",
    "\n",
    "# Menampilkan F1 Score pada dataset pelatihan\n",
    "print('F1 Score - Train Set  : ', f1_score(y_train, knn_pipeline_predict_train), '\\n')\n",
    "\n",
    "# Menampilkan Classification Report pada dataset pelatihan\n",
    "print('Classification Report : \\n', classification_report(y_train, knn_pipeline_predict_train), '\\n')\n",
    "\n",
    "# Menampilkan F1 Score pada dataset uji\n",
    "print('F1 Score - Test Set  : ', f1_score(y_test, knn_pipeline_predict_test), '\\n')\n",
    "\n",
    "# Menampilkan Classification Report pada dataset uji\n",
    "print('Classification Report : \\n', classification_report(y_test, knn_pipeline_predict_test), '\\n')"
   ]
  },
  {
   "cell_type": "markdown",
   "metadata": {},
   "source": [
    "Based on the results of the model evaluation using KNN above, we can conclude that:\n",
    "\n",
    "1. **F1-Score**\n",
    "    - The F1-Score for train data is 0.60, while for test data it is 0.46. This shows that the model has better performance in predicting classes on train data than on test data, with a significant difference between the two.\n",
    "2. **Recall**\n",
    "    - Recall for class 1 in the train data is 0.49, while in the test data it is 0.37. Although the recall rate for default cases is not very high, the model tends not to miss a large number of default cases, but the recall value decreases significantly in the test data.\n",
    "3. **Level of Accuracy**\n",
    "    - The overall accuracy level on the train data is 0.86, while on the test data it is 0.81. Even though it is still quite high, there is a decrease in performance on test data compared to train data.\n",
    "4. **Model Consistency**\n",
    "    - There is a considerable difference in model performance between train and test data, with the model tending to produce better results on train data than on test data. This indicates possible overfitting in the model."
   ]
  },
  {
   "cell_type": "markdown",
   "metadata": {},
   "source": [
    "#### 9.1.4 Pipeline Base Model Evaluation Conclusion\n",
    "\n",
    "Based on the evaluation of these three models, the **SVM model has the best performance compared to Logistic Regression and KNN**, with a higher F1-Score and a better balance between precision and recall on test data."
   ]
  },
  {
   "cell_type": "markdown",
   "metadata": {},
   "source": [
    "### 9.2 Cross Validation"
   ]
  },
  {
   "cell_type": "markdown",
   "metadata": {},
   "source": [
    "#### 9.2.1 Logistic Regression Cross Validation"
   ]
  },
  {
   "cell_type": "code",
   "execution_count": 314,
   "metadata": {},
   "outputs": [
    {
     "name": "stdout",
     "output_type": "stream",
     "text": [
      "F1-Score Cross Validation  :  [0.4496124  0.35483871 0.37288136 0.27777778 0.38016529]\n",
      "Mean F1-Score Cross Validation :  0.3670551071488748\n",
      "Std F1-Score Cross Validation  :  0.0550294667818579\n"
     ]
    }
   ],
   "source": [
    "logreg_crossVal = cross_val_score(logreg_pipeline, X_train, y_train, cv=5, scoring='f1')\n",
    "\n",
    "print('F1-Score Cross Validation  : ', logreg_crossVal)\n",
    "print('Mean F1-Score Cross Validation : ', logreg_crossVal.mean())\n",
    "print('Std F1-Score Cross Validation  : ', logreg_crossVal.std())"
   ]
  },
  {
   "cell_type": "markdown",
   "metadata": {},
   "source": [
    "Based on the cross-validation results, the model shows significant performance variations between folds with **F1-Score values varying from 0.28 to 0.45**. Although the average F1-Score from cross-validation is 0.37, the standard deviation is quite high (0.055) indicating that **the model performance tends to be unstable between folds**. This indicates that **the model may be inconsistent in making predictions on different datasets**, and further adjustments or improvements need to be made to improve the stability and overall performance of the model."
   ]
  },
  {
   "cell_type": "markdown",
   "metadata": {},
   "source": [
    "#### 9.2.2 SVM Cross Validation"
   ]
  },
  {
   "cell_type": "code",
   "execution_count": 315,
   "metadata": {},
   "outputs": [
    {
     "name": "stdout",
     "output_type": "stream",
     "text": [
      "F1-Score Cross Validation  :  [0.4375     0.48611111 0.54285714 0.432      0.46616541]\n",
      "Mean F1-Score Cross Validation :  0.47292673350041764\n",
      "Std F1-Score Cross Validation  :  0.04009951714171841\n"
     ]
    }
   ],
   "source": [
    "svm_crossVal = cross_val_score(svm_pipeline, X_train, y_train, cv=5, scoring='f1')\n",
    "\n",
    "print('F1-Score Cross Validation  : ', svm_crossVal)\n",
    "print('Mean F1-Score Cross Validation : ', svm_crossVal.mean())\n",
    "print('Std F1-Score Cross Validation  : ', svm_crossVal.std())"
   ]
  },
  {
   "cell_type": "markdown",
   "metadata": {},
   "source": [
    "From the cross-validation results, the **model shows varying performance between each fold with an F1-Score ranging from 0.43 to 0.54**. The average F1-Score from cross-validation is 0.47, which shows the **overall performance of the model in predicting with balance between precision and recall**. The relatively low standard deviation (0.04) indicates that **the model performance is quite stable between folds**. Thus, this model has good performance and is relatively stable in making predictions on unseen data."
   ]
  },
  {
   "cell_type": "markdown",
   "metadata": {},
   "source": [
    "#### 9.2.3 KNN  Cross Validation"
   ]
  },
  {
   "cell_type": "code",
   "execution_count": 316,
   "metadata": {},
   "outputs": [
    {
     "name": "stdout",
     "output_type": "stream",
     "text": [
      "F1-Score Cross Validation  :  [0.49655172 0.44295302 0.52287582 0.44776119 0.46153846]\n",
      "Mean F1-Score Cross Validation :  0.47433604336678714\n",
      "Std F1-Score Cross Validation  :  0.030674226839492814\n"
     ]
    }
   ],
   "source": [
    "knn_crossVal = cross_val_score(knn_pipeline, X_train, y_train, cv=5, scoring='f1')\n",
    "\n",
    "print('F1-Score Cross Validation  : ', knn_crossVal)\n",
    "print('Mean F1-Score Cross Validation : ', knn_crossVal.mean())\n",
    "print('Std F1-Score Cross Validation  : ', knn_crossVal.std())"
   ]
  },
  {
   "cell_type": "markdown",
   "metadata": {},
   "source": [
    "From the cross-validation results, the model shows **varying performance between each fold with an F1-Score ranging from 0.44 to 0.52**. The average F1-Score from cross-validation is 0.47, which shows the **overall performance of the model in predicting with balance between precision and recall**. The relatively low standard deviation (0.03) indicates that the model performance is quite stable between folds. Thus, this **model has good performance and is relatively stable in making predictions on unseen data.**"
   ]
  },
  {
   "cell_type": "markdown",
   "metadata": {},
   "source": [
    "#### 9.2.4 Cross Validation Model Evaluation Conclusion\n",
    "\n",
    "Based on the cross-validation results, the algorithm that has the highest average F1-Score is K-Nearest Neighbors (KNN) with a value of 0.47433604336678714, followed by Support Vector Machine (SVM) with a value of 0.47292673350041764, and Logistic Regression with a value of 0.3670551071488748. KNN also had the lowest standard deviation, indicating better stability in prediction performance between folds. However, the F1-Score value between KNN and SVM is not much different. Apart from that, when testing the base model using SVM the resulting values are also better. Therefore, we will use SVM because the evaluation model value on the base is more considered because it includes test data"
   ]
  },
  {
   "cell_type": "markdown",
   "metadata": {},
   "source": [
    "### 9.3 Hyperparameter Tuning\n",
    "\n",
    "**Hyperparameter tuning** is the process of optimizing previously determined values (hyperparameters) in a machine learning model to achieve better performance. **Hyperparameters** are parameters that a model cannot learn during training, and choosing the right values for hyperparameters can result in a more accurate and efficient model. By performing hyperparameter tuning, we can improve the model's ability to make better predictions, reduce overfitting or underfitting, and improve overall performance.\n",
    "\n",
    "Next, we will start by defining hyperparameters. We will use Grid Search Cross Validation because it guarantees thorough exploration of the hyperparameter space."
   ]
  },
  {
   "cell_type": "code",
   "execution_count": 317,
   "metadata": {},
   "outputs": [
    {
     "name": "stdout",
     "output_type": "stream",
     "text": [
      "Fitting 3 folds for each of 16 candidates, totalling 48 fits\n"
     ]
    },
    {
     "data": {
      "text/html": [
       "<style>#sk-container-id-29 {color: black;background-color: white;}#sk-container-id-29 pre{padding: 0;}#sk-container-id-29 div.sk-toggleable {background-color: white;}#sk-container-id-29 label.sk-toggleable__label {cursor: pointer;display: block;width: 100%;margin-bottom: 0;padding: 0.3em;box-sizing: border-box;text-align: center;}#sk-container-id-29 label.sk-toggleable__label-arrow:before {content: \"▸\";float: left;margin-right: 0.25em;color: #696969;}#sk-container-id-29 label.sk-toggleable__label-arrow:hover:before {color: black;}#sk-container-id-29 div.sk-estimator:hover label.sk-toggleable__label-arrow:before {color: black;}#sk-container-id-29 div.sk-toggleable__content {max-height: 0;max-width: 0;overflow: hidden;text-align: left;background-color: #f0f8ff;}#sk-container-id-29 div.sk-toggleable__content pre {margin: 0.2em;color: black;border-radius: 0.25em;background-color: #f0f8ff;}#sk-container-id-29 input.sk-toggleable__control:checked~div.sk-toggleable__content {max-height: 200px;max-width: 100%;overflow: auto;}#sk-container-id-29 input.sk-toggleable__control:checked~label.sk-toggleable__label-arrow:before {content: \"▾\";}#sk-container-id-29 div.sk-estimator input.sk-toggleable__control:checked~label.sk-toggleable__label {background-color: #d4ebff;}#sk-container-id-29 div.sk-label input.sk-toggleable__control:checked~label.sk-toggleable__label {background-color: #d4ebff;}#sk-container-id-29 input.sk-hidden--visually {border: 0;clip: rect(1px 1px 1px 1px);clip: rect(1px, 1px, 1px, 1px);height: 1px;margin: -1px;overflow: hidden;padding: 0;position: absolute;width: 1px;}#sk-container-id-29 div.sk-estimator {font-family: monospace;background-color: #f0f8ff;border: 1px dotted black;border-radius: 0.25em;box-sizing: border-box;margin-bottom: 0.5em;}#sk-container-id-29 div.sk-estimator:hover {background-color: #d4ebff;}#sk-container-id-29 div.sk-parallel-item::after {content: \"\";width: 100%;border-bottom: 1px solid gray;flex-grow: 1;}#sk-container-id-29 div.sk-label:hover label.sk-toggleable__label {background-color: #d4ebff;}#sk-container-id-29 div.sk-serial::before {content: \"\";position: absolute;border-left: 1px solid gray;box-sizing: border-box;top: 0;bottom: 0;left: 50%;z-index: 0;}#sk-container-id-29 div.sk-serial {display: flex;flex-direction: column;align-items: center;background-color: white;padding-right: 0.2em;padding-left: 0.2em;position: relative;}#sk-container-id-29 div.sk-item {position: relative;z-index: 1;}#sk-container-id-29 div.sk-parallel {display: flex;align-items: stretch;justify-content: center;background-color: white;position: relative;}#sk-container-id-29 div.sk-item::before, #sk-container-id-29 div.sk-parallel-item::before {content: \"\";position: absolute;border-left: 1px solid gray;box-sizing: border-box;top: 0;bottom: 0;left: 50%;z-index: -1;}#sk-container-id-29 div.sk-parallel-item {display: flex;flex-direction: column;z-index: 1;position: relative;background-color: white;}#sk-container-id-29 div.sk-parallel-item:first-child::after {align-self: flex-end;width: 50%;}#sk-container-id-29 div.sk-parallel-item:last-child::after {align-self: flex-start;width: 50%;}#sk-container-id-29 div.sk-parallel-item:only-child::after {width: 0;}#sk-container-id-29 div.sk-dashed-wrapped {border: 1px dashed gray;margin: 0 0.4em 0.5em 0.4em;box-sizing: border-box;padding-bottom: 0.4em;background-color: white;}#sk-container-id-29 div.sk-label label {font-family: monospace;font-weight: bold;display: inline-block;line-height: 1.2em;}#sk-container-id-29 div.sk-label-container {text-align: center;}#sk-container-id-29 div.sk-container {/* jupyter's `normalize.less` sets `[hidden] { display: none; }` but bootstrap.min.css set `[hidden] { display: none !important; }` so we also need the `!important` here to be able to override the default hidden behavior on the sphinx rendered scikit-learn.org. See: https://github.com/scikit-learn/scikit-learn/issues/21755 */display: inline-block !important;position: relative;}#sk-container-id-29 div.sk-text-repr-fallback {display: none;}</style><div id=\"sk-container-id-29\" class=\"sk-top-container\"><div class=\"sk-text-repr-fallback\"><pre>GridSearchCV(cv=3, estimator=SVC(random_state=42), n_jobs=-1,\n",
       "             param_grid={&#x27;C&#x27;: [0.1, 1, 10, 100], &#x27;class_weight&#x27;: [&#x27;balanced&#x27;],\n",
       "                         &#x27;degree&#x27;: [2, 3], &#x27;gamma&#x27;: [0.1, &#x27;scale&#x27;],\n",
       "                         &#x27;kernel&#x27;: [&#x27;rbf&#x27;]},\n",
       "             scoring=&#x27;f1&#x27;, verbose=10)</pre><b>In a Jupyter environment, please rerun this cell to show the HTML representation or trust the notebook. <br />On GitHub, the HTML representation is unable to render, please try loading this page with nbviewer.org.</b></div><div class=\"sk-container\" hidden><div class=\"sk-item sk-dashed-wrapped\"><div class=\"sk-label-container\"><div class=\"sk-label sk-toggleable\"><input class=\"sk-toggleable__control sk-hidden--visually\" id=\"sk-estimator-id-147\" type=\"checkbox\" ><label for=\"sk-estimator-id-147\" class=\"sk-toggleable__label sk-toggleable__label-arrow\">GridSearchCV</label><div class=\"sk-toggleable__content\"><pre>GridSearchCV(cv=3, estimator=SVC(random_state=42), n_jobs=-1,\n",
       "             param_grid={&#x27;C&#x27;: [0.1, 1, 10, 100], &#x27;class_weight&#x27;: [&#x27;balanced&#x27;],\n",
       "                         &#x27;degree&#x27;: [2, 3], &#x27;gamma&#x27;: [0.1, &#x27;scale&#x27;],\n",
       "                         &#x27;kernel&#x27;: [&#x27;rbf&#x27;]},\n",
       "             scoring=&#x27;f1&#x27;, verbose=10)</pre></div></div></div><div class=\"sk-parallel\"><div class=\"sk-parallel-item\"><div class=\"sk-item\"><div class=\"sk-label-container\"><div class=\"sk-label sk-toggleable\"><input class=\"sk-toggleable__control sk-hidden--visually\" id=\"sk-estimator-id-148\" type=\"checkbox\" ><label for=\"sk-estimator-id-148\" class=\"sk-toggleable__label sk-toggleable__label-arrow\">estimator: SVC</label><div class=\"sk-toggleable__content\"><pre>SVC(random_state=42)</pre></div></div></div><div class=\"sk-serial\"><div class=\"sk-item\"><div class=\"sk-estimator sk-toggleable\"><input class=\"sk-toggleable__control sk-hidden--visually\" id=\"sk-estimator-id-149\" type=\"checkbox\" ><label for=\"sk-estimator-id-149\" class=\"sk-toggleable__label sk-toggleable__label-arrow\">SVC</label><div class=\"sk-toggleable__content\"><pre>SVC(random_state=42)</pre></div></div></div></div></div></div></div></div></div></div>"
      ],
      "text/plain": [
       "GridSearchCV(cv=3, estimator=SVC(random_state=42), n_jobs=-1,\n",
       "             param_grid={'C': [0.1, 1, 10, 100], 'class_weight': ['balanced'],\n",
       "                         'degree': [2, 3], 'gamma': [0.1, 'scale'],\n",
       "                         'kernel': ['rbf']},\n",
       "             scoring='f1', verbose=10)"
      ]
     },
     "execution_count": 317,
     "metadata": {},
     "output_type": "execute_result"
    }
   ],
   "source": [
    "# Define Hyperparameter \n",
    "params_svm = {\n",
    "    'kernel':['rbf'],\n",
    "    'degree':[2, 3],\n",
    "    'C':[0.1, 1, 10, 100],\n",
    "    'gamma':[0.1, 'scale'],\n",
    "    'class_weight':['balanced']}\n",
    "\n",
    "grid_svm = GridSearchCV(estimator=svm_model, param_grid=params_svm, cv=3, n_jobs=-1, verbose=10, scoring='f1')\n",
    "grid_svm.fit(X_train, y_train)"
   ]
  },
  {
   "cell_type": "code",
   "execution_count": 318,
   "metadata": {},
   "outputs": [
    {
     "data": {
      "text/plain": [
       "{'C': 100,\n",
       " 'class_weight': 'balanced',\n",
       " 'degree': 2,\n",
       " 'gamma': 'scale',\n",
       " 'kernel': 'rbf'}"
      ]
     },
     "execution_count": 318,
     "metadata": {},
     "output_type": "execute_result"
    }
   ],
   "source": [
    "# Get the best parameters from GridSearchCV results\n",
    "best_params = grid_svm.best_params_\n",
    "\n",
    "# Displays the best parameters\n",
    "best_params"
   ]
  },
  {
   "cell_type": "code",
   "execution_count": 319,
   "metadata": {},
   "outputs": [
    {
     "data": {
      "text/html": [
       "<style>#sk-container-id-30 {color: black;background-color: white;}#sk-container-id-30 pre{padding: 0;}#sk-container-id-30 div.sk-toggleable {background-color: white;}#sk-container-id-30 label.sk-toggleable__label {cursor: pointer;display: block;width: 100%;margin-bottom: 0;padding: 0.3em;box-sizing: border-box;text-align: center;}#sk-container-id-30 label.sk-toggleable__label-arrow:before {content: \"▸\";float: left;margin-right: 0.25em;color: #696969;}#sk-container-id-30 label.sk-toggleable__label-arrow:hover:before {color: black;}#sk-container-id-30 div.sk-estimator:hover label.sk-toggleable__label-arrow:before {color: black;}#sk-container-id-30 div.sk-toggleable__content {max-height: 0;max-width: 0;overflow: hidden;text-align: left;background-color: #f0f8ff;}#sk-container-id-30 div.sk-toggleable__content pre {margin: 0.2em;color: black;border-radius: 0.25em;background-color: #f0f8ff;}#sk-container-id-30 input.sk-toggleable__control:checked~div.sk-toggleable__content {max-height: 200px;max-width: 100%;overflow: auto;}#sk-container-id-30 input.sk-toggleable__control:checked~label.sk-toggleable__label-arrow:before {content: \"▾\";}#sk-container-id-30 div.sk-estimator input.sk-toggleable__control:checked~label.sk-toggleable__label {background-color: #d4ebff;}#sk-container-id-30 div.sk-label input.sk-toggleable__control:checked~label.sk-toggleable__label {background-color: #d4ebff;}#sk-container-id-30 input.sk-hidden--visually {border: 0;clip: rect(1px 1px 1px 1px);clip: rect(1px, 1px, 1px, 1px);height: 1px;margin: -1px;overflow: hidden;padding: 0;position: absolute;width: 1px;}#sk-container-id-30 div.sk-estimator {font-family: monospace;background-color: #f0f8ff;border: 1px dotted black;border-radius: 0.25em;box-sizing: border-box;margin-bottom: 0.5em;}#sk-container-id-30 div.sk-estimator:hover {background-color: #d4ebff;}#sk-container-id-30 div.sk-parallel-item::after {content: \"\";width: 100%;border-bottom: 1px solid gray;flex-grow: 1;}#sk-container-id-30 div.sk-label:hover label.sk-toggleable__label {background-color: #d4ebff;}#sk-container-id-30 div.sk-serial::before {content: \"\";position: absolute;border-left: 1px solid gray;box-sizing: border-box;top: 0;bottom: 0;left: 50%;z-index: 0;}#sk-container-id-30 div.sk-serial {display: flex;flex-direction: column;align-items: center;background-color: white;padding-right: 0.2em;padding-left: 0.2em;position: relative;}#sk-container-id-30 div.sk-item {position: relative;z-index: 1;}#sk-container-id-30 div.sk-parallel {display: flex;align-items: stretch;justify-content: center;background-color: white;position: relative;}#sk-container-id-30 div.sk-item::before, #sk-container-id-30 div.sk-parallel-item::before {content: \"\";position: absolute;border-left: 1px solid gray;box-sizing: border-box;top: 0;bottom: 0;left: 50%;z-index: -1;}#sk-container-id-30 div.sk-parallel-item {display: flex;flex-direction: column;z-index: 1;position: relative;background-color: white;}#sk-container-id-30 div.sk-parallel-item:first-child::after {align-self: flex-end;width: 50%;}#sk-container-id-30 div.sk-parallel-item:last-child::after {align-self: flex-start;width: 50%;}#sk-container-id-30 div.sk-parallel-item:only-child::after {width: 0;}#sk-container-id-30 div.sk-dashed-wrapped {border: 1px dashed gray;margin: 0 0.4em 0.5em 0.4em;box-sizing: border-box;padding-bottom: 0.4em;background-color: white;}#sk-container-id-30 div.sk-label label {font-family: monospace;font-weight: bold;display: inline-block;line-height: 1.2em;}#sk-container-id-30 div.sk-label-container {text-align: center;}#sk-container-id-30 div.sk-container {/* jupyter's `normalize.less` sets `[hidden] { display: none; }` but bootstrap.min.css set `[hidden] { display: none !important; }` so we also need the `!important` here to be able to override the default hidden behavior on the sphinx rendered scikit-learn.org. See: https://github.com/scikit-learn/scikit-learn/issues/21755 */display: inline-block !important;position: relative;}#sk-container-id-30 div.sk-text-repr-fallback {display: none;}</style><div id=\"sk-container-id-30\" class=\"sk-top-container\"><div class=\"sk-text-repr-fallback\"><pre>SVC(C=100, class_weight=&#x27;balanced&#x27;, degree=2, random_state=42)</pre><b>In a Jupyter environment, please rerun this cell to show the HTML representation or trust the notebook. <br />On GitHub, the HTML representation is unable to render, please try loading this page with nbviewer.org.</b></div><div class=\"sk-container\" hidden><div class=\"sk-item\"><div class=\"sk-estimator sk-toggleable\"><input class=\"sk-toggleable__control sk-hidden--visually\" id=\"sk-estimator-id-150\" type=\"checkbox\" checked><label for=\"sk-estimator-id-150\" class=\"sk-toggleable__label sk-toggleable__label-arrow\">SVC</label><div class=\"sk-toggleable__content\"><pre>SVC(C=100, class_weight=&#x27;balanced&#x27;, degree=2, random_state=42)</pre></div></div></div></div></div>"
      ],
      "text/plain": [
       "SVC(C=100, class_weight='balanced', degree=2, random_state=42)"
      ]
     },
     "execution_count": 319,
     "metadata": {},
     "output_type": "execute_result"
    }
   ],
   "source": [
    "# Create a new Pipeline with the best parameters from the GridSearch results\n",
    "# Get the best model from GridSearchCV results\n",
    "best_estimator = grid_svm.best_estimator_\n",
    "\n",
    "# Displays the best models\n",
    "best_estimator"
   ]
  },
  {
   "cell_type": "code",
   "execution_count": 320,
   "metadata": {},
   "outputs": [
    {
     "name": "stdout",
     "output_type": "stream",
     "text": [
      "F1 Score - Train Set :  0.3991989319092123 \n",
      "\n",
      "F1 Score - Test Set :  0.397456279809221 \n",
      "\n",
      "Classification Report : \n",
      "               precision    recall  f1-score   support\n",
      "\n",
      "           0       0.86      0.54      0.66      1635\n",
      "           1       0.28      0.68      0.40       439\n",
      "\n",
      "    accuracy                           0.57      2074\n",
      "   macro avg       0.57      0.61      0.53      2074\n",
      "weighted avg       0.74      0.57      0.61      2074\n",
      " \n",
      "\n",
      "Classification Report : \n",
      "               precision    recall  f1-score   support\n",
      "\n",
      "           0       0.84      0.56      0.67       694\n",
      "           1       0.29      0.64      0.40       196\n",
      "\n",
      "    accuracy                           0.57       890\n",
      "   macro avg       0.57      0.60      0.53       890\n",
      "weighted avg       0.72      0.57      0.61       890\n",
      " \n",
      "\n"
     ]
    }
   ],
   "source": [
    "# Check Model Performance against Train-Set\n",
    "# Perform predictions on the training dataset using the best model\n",
    "best_estimator_predict_train = best_estimator.predict(X_train)\n",
    "best_estimator_predict_test = best_estimator.predict(X_test)\n",
    "\n",
    "# Displays the F1 Score on the training dataset\n",
    "print('F1 Score - Train Set : ', f1_score(y_train, best_estimator_predict_train), '\\n')\n",
    "print('F1 Score - Test Set : ', f1_score(y_test, best_estimator_predict_test), '\\n')\n",
    "\n",
    "# Displays a Classification Report on the training dataset\n",
    "print('Classification Report : \\n', classification_report(y_train, best_estimator_predict_train), '\\n')\n",
    "print('Classification Report : \\n', classification_report(y_test, best_estimator_predict_test), '\\n')"
   ]
  },
  {
   "cell_type": "markdown",
   "metadata": {},
   "source": [
    "After performing hyperparameter tuning, we can conclude that:\n",
    "- model performance decreased drastically with the F1-Score on the test data being 0.40.\n",
    "- Although the recall value for class 1 increased, the precision decreased significantly, indicating a tendency to classify more cases as false positives.\n",
    "- The parameters used for tuning are {'C': 100, 'class_weight': 'balanced', 'degree': 2, 'gamma': 'scale', 'kernel': 'rbf'}, but the results did not succeed in improving model performance significantly.\n",
    "- Even though the f1-score value in training and testing after tuning is smaller than the f-1 score value before hyperparameter tuning, the f-1 score value is more stable after hyperparameter tuning. The f-1 score value in the test and training data is at 0.40."
   ]
  },
  {
   "cell_type": "markdown",
   "metadata": {},
   "source": [
    "## 10. Model Saving"
   ]
  },
  {
   "cell_type": "code",
   "execution_count": 321,
   "metadata": {},
   "outputs": [],
   "source": [
    "# Menyimpan model Logistic Regression ke dalam file pickle\n",
    "with open('model.pkl', 'wb') as file_5:\n",
    "  pickle.dump(best_estimator, file_5)"
   ]
  },
  {
   "cell_type": "markdown",
   "metadata": {},
   "source": [
    "## 11. Model Inference\n",
    "\n",
    "Inference Model is in Credit_Card_Default_Prediction_Inference"
   ]
  },
  {
   "cell_type": "markdown",
   "metadata": {},
   "source": [
    "## 12. Conclusion\n",
    "\n",
    "The dataset we have is clean data where no missing values were found. We find that there are **24 columns with 2,965 data entries.** The majority of the data in this dataset has a non-normal distribution.\n",
    "\n",
    "The majority of borrowers are those who have a bachelor's degree, followed by master's and doctoral graduates, and followed by high school graduates. We find that 78.58% of people registered in our dataset are categorized as safe from default payments/NOT defaulting.\n",
    "\n",
    "From the results of the correlation test, we find that data such as **limit_balance, education_level, and pay_amt** have a very low correlation. Likewise with Multicollinearity, we find a **high correlation between independent variables in the bill_amt data** and it will continue to be used for the same reason.\n",
    "\n",
    "From the entire model test we find that **we will predict the default payment classification using the SVM model without Hyperparameter Tuning improvements.** Compared to the Logistic Regression and KNN methods, the SVM model has much better results in terms of prediction, accuracy and fitting. SVM gets less extreme fitting results."
   ]
  },
  {
   "cell_type": "markdown",
   "metadata": {},
   "source": []
  }
 ],
 "metadata": {
  "kernelspec": {
   "display_name": "base",
   "language": "python",
   "name": "python3"
  },
  "language_info": {
   "codemirror_mode": {
    "name": "ipython",
    "version": 3
   },
   "file_extension": ".py",
   "mimetype": "text/x-python",
   "name": "python",
   "nbconvert_exporter": "python",
   "pygments_lexer": "ipython3",
   "version": "3.11.5"
  }
 },
 "nbformat": 4,
 "nbformat_minor": 2
}
